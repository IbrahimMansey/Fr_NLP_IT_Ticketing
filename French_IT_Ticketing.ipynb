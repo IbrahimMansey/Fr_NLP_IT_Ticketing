{
 "cells": [
  {
   "cell_type": "code",
   "execution_count": 498,
   "metadata": {
    "ExecuteTime": {
     "end_time": "2020-12-24T12:24:42.191386Z",
     "start_time": "2020-12-24T12:24:42.155227Z"
    }
   },
   "outputs": [],
   "source": [
    "# GENERAL IMPORTS TO DEAL WITH DATA\n",
    "import numpy as np\n",
    "import pandas as pd\n",
    "import matplotlib.pyplot as plt\n",
    "import seaborn as sns\n",
    "\n",
    "import datetime as dt\n",
    "\n",
    "# STRING MANIPULATION\n",
    "import string \n",
    "import re \n",
    "\n",
    "# LIBRARIES FOR CLASSIC NLP \n",
    "import nltk \n",
    "from nltk.corpus import stopwords \n",
    "from nltk.stem.snowball import FrenchStemmer \n",
    "from nltk import FreqDist\n",
    "from nltk.tokenize import word_tokenize\n",
    "import spacy\n",
    "import fr_core_news_md\n",
    "\n",
    "# IMPORTS FOR PARALLEL PROCESSING\n",
    "import multiprocessing\n",
    "from functools import partial\n",
    "\n",
    "# FOR WORDCLOUD\n",
    "from os import path\n",
    "from PIL import Image\n",
    "from wordcloud import WordCloud, ImageColorGenerator\n",
    "\n",
    "# FOR MACHINE LEARNING\n",
    "from sklearn.feature_extraction.text import CountVectorizer, TfidfTransformer, TfidfVectorizer\n",
    "from sklearn.preprocessing import LabelEncoder , OneHotEncoder\n",
    "from sklearn.model_selection import train_test_split, GridSearchCV\n",
    "from sklearn.pipeline import Pipeline\n",
    "from sklearn.naive_bayes import MultinomialNB\n",
    "from sklearn.svm import SVC\n",
    "from sklearn.metrics import accuracy_score, classification_report \n",
    "\n",
    "# TO DEAL WITH SPARSE MATRIX\n",
    "from scipy.sparse import hstack\n",
    "\n",
    "# FOR OVER-SAMPLING TECHNIQUES\n",
    "from imblearn.over_sampling import SMOTE\n",
    "\n",
    "# IMPORTING LIGHT GRADIENT BOOSTING\n",
    "from lightgbm import LGBMClassifier\n",
    "\n",
    "sns.set_palette(sns.color_palette())\n",
    "%matplotlib inline"
   ]
  },
  {
   "cell_type": "code",
   "execution_count": 2,
   "metadata": {
    "ExecuteTime": {
     "end_time": "2020-12-23T13:26:52.057681Z",
     "start_time": "2020-12-23T13:24:20.955270Z"
    }
   },
   "outputs": [],
   "source": [
    "# Loading raw data into a Dataframe\n",
    "raw_df = pd.read_excel('Ticketing.xlsx')"
   ]
  },
  {
   "cell_type": "markdown",
   "metadata": {},
   "source": [
    "**<font color='red'>After dataset investigation in another notebook I will discuss each problem and it's solution.</font>**"
   ]
  },
  {
   "cell_type": "markdown",
   "metadata": {},
   "source": [
    "# -Sort out the most used keywords:"
   ]
  },
  {
   "cell_type": "markdown",
   "metadata": {},
   "source": [
    ">Feature of interest is Incident-Subject"
   ]
  },
  {
   "cell_type": "markdown",
   "metadata": {},
   "source": [
    "### Text Preprocessing:\n"
   ]
  },
  {
   "cell_type": "code",
   "execution_count": 188,
   "metadata": {
    "ExecuteTime": {
     "end_time": "2020-12-23T13:26:53.129925Z",
     "start_time": "2020-12-23T13:26:53.032015Z"
    }
   },
   "outputs": [],
   "source": [
    "def preprocess(df, column, stemmer = False, lemma = False, stopword= True, digits = True):\n",
    "    '''\n",
    "    Takes a df and specific column of texts \n",
    "    to return a cleaned and preprocessed dataframe\n",
    "    \n",
    "    key arguments:\n",
    "    df      -- pandas.DataFrame object\n",
    "    column  -- column name of type string\n",
    "    '''\n",
    "    #copy dataframe \n",
    "    output_df = df.copy()\n",
    "    \n",
    "    #Convert to lowercase\n",
    "    output_df[column] = output_df[column].apply(lambda text: text.lower())\n",
    "    \n",
    "    # General Cleaning\n",
    "    output_df[column] = output_df[column].apply(lambda text: text.replace('\\xa0',\" \")) # replace encoded space\n",
    "    output_df[column] = output_df[column].apply(lambda text: re.sub('<[^>]*>',\"\", text)) # remove any tags\n",
    "    output_df[column] = output_df[column].apply(lambda text:\n",
    "                                            re.sub('(http(s)?:\\/\\/.)?(www\\.)?[-a-zA-Z0-9@:%._\\+~#=]{2,256}\\.[a-z]{2,6}\\b([-a-zA-Z0-9@:%_\\+.~#?&//=]*)'\n",
    "                                            ,\" \",text)) # remove any URL\n",
    "    output_df[column] = output_df[column].apply(lambda text: re.sub(':[^\\s]*',\"\", text))# remove any desk location\n",
    "    \n",
    "    # text split or tokenize\n",
    "    output_df[column] = output_df[column].apply(lambda text: text.split())\n",
    "    \n",
    "    output_df[column] = output_df[column].apply(lambda text: [word for word in text if \"\\\\\" not in word]) # further remove dir\n",
    "    output_df[column] = output_df[column].apply(lambda text: [word for word in text if \"@\" not in word]) # remove E-mails\n",
    "\n",
    "    if lemma == True: # lemmatization code\n",
    "        # loading spacy french module to lemmatize\n",
    "        nlp = fr_core_news_md.load(disable=[\"tagger\", \"parser\",'ner'])\n",
    "        output_df[column] = output_df[column].apply(lambda text: [word.lemma_ for word in nlp(text)]) # applying lemma \n",
    "    \n",
    "    if stemmer == True: # stemming code\n",
    "        #stemming with french stemming object in the FrenchStemmer class\n",
    "        stemmer = FrenchStemmer() \n",
    "        output_df[column] = output_df[column].apply(lambda text: [stemmer.stem(word) for word in text])\n",
    "        \n",
    "    # get the number of words in each text\n",
    "    # output_df['num_words'] = output_df[column].apply(lambda text: len(re.split(r\"(?:\\s+)|(?:,)|(?:\\-)\",text)))  \n",
    "        \n",
    "    # join words back to a text    \n",
    "    output_df[column] = output_df[column].apply(lambda text: \" \".join([word for word in text]))\n",
    "    \n",
    "    #remove special characters and digits\n",
    "    #output_df[column] = output_df[column].apply(lambda text: re.sub(\"(\\\\d|\\\\W)+\",\" \",text))\n",
    "    \n",
    "    # remove any digit or special character\n",
    "    clean = string.punctuation\n",
    "    \n",
    "    if digits == True:\n",
    "        clean += string.digits\n",
    "        \n",
    "    for c in clean:\n",
    "        output_df[column] = output_df[column].apply(lambda text: text.replace(c,\"\"))\n",
    "    \n",
    "    # Stop word removal\n",
    "    if stopwords == True:\n",
    "        stop_words = stopwords.words('french')\n",
    "        stop_words.extend(stopwords.words('english'))\n",
    "        stop_words.extend(['a','bonjour', 'cordialement'])\n",
    "        output_df[column] = output_df[column].apply(lambda text: \" \".join([word for word in text.split() if word not in stop_words]))\n",
    "    \n",
    "    return output_df"
   ]
  },
  {
   "cell_type": "code",
   "execution_count": 4,
   "metadata": {
    "ExecuteTime": {
     "end_time": "2020-12-23T16:42:16.676282Z",
     "start_time": "2020-12-23T16:42:16.637620Z"
    }
   },
   "outputs": [],
   "source": [
    "def parallel_process(raw_df, column, NUM_CORES):\n",
    "    # split the raw dataframe into chunks\n",
    "    df_chunks = np.array_split(raw_df ,NUM_CORES)\n",
    "\n",
    "    # use a pool to spawn multiple proecsses\n",
    "    with multiprocessing.Pool(NUM_CORES) as pool:\n",
    "    \n",
    "        # concatenate all processed chunks together.\n",
    "        # preprocess is the function I defined in the previous block\n",
    "        output_df = pd.concat(pool.map(partial(preprocess, column=column), df_chunks), ignore_index=True)\n",
    "        \n",
    "    return output_df"
   ]
  },
  {
   "cell_type": "code",
   "execution_count": null,
   "metadata": {
    "ExecuteTime": {
     "end_time": "2020-12-23T16:42:13.972718Z",
     "start_time": "2020-12-23T16:41:44.618096Z"
    }
   },
   "outputs": [],
   "source": [
    "df = parallel_process(raw_df, 'Incident-Subject', 8)"
   ]
  },
  {
   "cell_type": "markdown",
   "metadata": {},
   "source": [
    "Checking preprocessing step"
   ]
  },
  {
   "cell_type": "code",
   "execution_count": 6,
   "metadata": {
    "ExecuteTime": {
     "end_time": "2020-12-23T16:43:25.604734Z",
     "start_time": "2020-12-23T16:43:25.598443Z"
    }
   },
   "outputs": [],
   "source": [
    "def check(column, check_list):\n",
    "\n",
    "    processed_tickets = ''\n",
    "    raw_tickets = ''\n",
    "    for index in check_list:\n",
    "        processed_tickets += df[column][index] + 2*'\\n'\n",
    "        raw_tickets += raw_df[column][index] + 2*'\\n'\n",
    "        \n",
    "    print('--> Clean tickets:\\n'+ processed_tickets + 20*'-' + '\\n-->Raw tickets:\\n' + raw_tickets)"
   ]
  },
  {
   "cell_type": "code",
   "execution_count": 7,
   "metadata": {
    "ExecuteTime": {
     "end_time": "2020-12-23T16:43:28.513374Z",
     "start_time": "2020-12-23T16:43:28.475059Z"
    }
   },
   "outputs": [
    {
     "name": "stdout",
     "output_type": "stream",
     "text": [
      "clean tickets:\n",
      "origine message mcafee management center alert system alert raised severity message bug bad rsscounter state mm idx val sender esbafwsingle node alert message sent mcafee management center\n",
      "\n",
      "merci restaurer fichier suivant serveur chemin fichier date restauration restaurer sousdossier restauration dossier original ps faut peutêtre remonter dernière sauvegarde complète si fichier na modifié depuis\n",
      "\n",
      "bonsoir outil supervision remonté lalerte suivante client serveur frdaplanif adresse ip service service smaopconminosservice note serveur windows retour check smaopconminosservice stopped adil\n",
      "\n",
      "--------------------\n",
      "raw tickets:\n",
      " Origine: mcafee@poclain-hydraulics.com - 2019-08-22 13:20  Message: McAfee Management Center alert \"System alert\" was raised at 2019-08-22 13:20:25.   Severity: 0 Message:  [13369471.159776] BUG: Bad rss-counter state mm:ffff880051304f00 idx:0 val:1 Sender: ESBA-FW-Single node 1  This is an alert message sent by McAfee Management Center.   \n",
      "\n",
      " Bonjour,  Merci de restaurer le fichier suivant :docfabrication0416.xlsx  Serveur :\\\\frrenas4\\ Chemin du fichier :R\\ISO9002\\Docasq\\Avancement doc\\Dos-prod\\2016\\ Date de la restauration :04/05/2016 Restaurer dans un sous-dossier \"restauration\" du dossier original  PS : Il faut peut-être remonter à la dernière sauvegarde complète si le fichier n'a pas été modifié depuis . \n",
      "\n",
      " Bonsoir     Notre outil de supervision a remonté l'alerte suivante:     Client:  Serveur: FRDAPLANIF1  Adresse IP: 170.237.25.77  Service: Service: _SMAOpConMinosService_   Note: Serveur Windows     Retour du check: SMAOpConMinosService: Stopped        Cordialement, Adil  \n",
      "\n",
      "\n"
     ]
    }
   ],
   "source": [
    "check('Incident-Subject', [60000, 5000, 0])"
   ]
  },
  {
   "cell_type": "code",
   "execution_count": 9,
   "metadata": {
    "ExecuteTime": {
     "end_time": "2020-12-23T13:24:14.760087Z",
     "start_time": "2020-12-23T13:24:14.747729Z"
    }
   },
   "outputs": [],
   "source": [
    "# save to file\n",
    "#df.to_excel('processed.xlsx',index=False)"
   ]
  },
  {
   "cell_type": "markdown",
   "metadata": {},
   "source": [
    "### Word frequency"
   ]
  },
  {
   "cell_type": "code",
   "execution_count": 8,
   "metadata": {
    "ExecuteTime": {
     "end_time": "2020-12-22T11:17:54.313653Z",
     "start_time": "2020-12-22T11:17:54.305152Z"
    }
   },
   "outputs": [],
   "source": [
    "#Most frequently occuring words function\n",
    "def get_top_words(corpus):\n",
    "    '''\n",
    "    Takes iterable object of strings and returns a dataframe of top words frequencies\n",
    "    \n",
    "    key arguments:\n",
    "    corpus  -- iterable object of type string\n",
    "    n       -- int number of top word\n",
    "    '''\n",
    "    vec = CountVectorizer().fit(corpus) # fit bag of words to corpus\n",
    "    bag_of_words = vec.transform(corpus) # Transform to parse matrix of emails x bag of words\n",
    "    sum_words = bag_of_words.sum(axis=0) # Sum frequencies for each word in all emails\n",
    "    \n",
    "    words_freq = [(word, sum_words[0, freq]) for word, freq in vec.vocabulary_.items()] # list of tuples(word, freq)\n",
    "    words_freq =sorted(words_freq, key = lambda x: x[1], reverse=True) # sort by count\n",
    "    \n",
    "    return words_freq"
   ]
  },
  {
   "cell_type": "code",
   "execution_count": 9,
   "metadata": {
    "ExecuteTime": {
     "end_time": "2020-12-22T11:20:28.249386Z",
     "start_time": "2020-12-22T11:18:18.234894Z"
    }
   },
   "outputs": [],
   "source": [
    "top_words = get_top_words(df['Incident-Subject'])"
   ]
  },
  {
   "cell_type": "code",
   "execution_count": 10,
   "metadata": {
    "ExecuteTime": {
     "start_time": "2020-12-22T11:18:42.399Z"
    }
   },
   "outputs": [
    {
     "data": {
      "text/plain": [
       "Text(0, 0.5, 'Frequency\\n')"
      ]
     },
     "execution_count": 10,
     "metadata": {},
     "output_type": "execute_result"
    },
    {
     "data": {
      "image/png": "[encoded data removed]",
      "text/plain": [
       "<Figure size 936x576 with 1 Axes>"
      ]
     },
     "metadata": {},
     "output_type": "display_data"
    }
   ],
   "source": [
    "#Convert most freq words to dataframe for plotting bar plot\n",
    "n = 20\n",
    "top_df = pd.DataFrame(top_words[0:n])\n",
    "top_df.columns=[\"Word\", \"Frequency\"]\n",
    "\n",
    "#Barplot of most freq words\n",
    "sns.set(rc={'figure.figsize':(13,8)});\n",
    "fig = sns.barplot(x=\"Word\", y=\"Frequency\", data=top_df);\n",
    "fig.set_xticklabels(fig.get_xticklabels(), rotation=45);\n",
    "fig.set_title('Top {} Words frequency '.format(n), size = 18);\n",
    "fig.set_xlabel(\"Word\",fontsize=14)\n",
    "fig.set_ylabel(\"Frequency\\n\",fontsize=14)"
   ]
  },
  {
   "cell_type": "markdown",
   "metadata": {},
   "source": [
    "**Top 20 word after removing stop words including 'bonjour', 'cordialement'**"
   ]
  },
  {
   "cell_type": "markdown",
   "metadata": {},
   "source": [
    "### Word cloud:"
   ]
  },
  {
   "cell_type": "code",
   "execution_count": 11,
   "metadata": {
    "ExecuteTime": {
     "end_time": "2020-12-23T13:38:10.384950Z",
     "start_time": "2020-12-23T13:37:04.394362Z"
    }
   },
   "outputs": [
    {
     "name": "stdout",
     "output_type": "stream",
     "text": [
      "<wordcloud.wordcloud.WordCloud object at 0x000001C6AA088BC8>\n"
     ]
    },
    {
     "data": {
      "image/png": "[encoded data removed]",
      "text/plain": [
       "<Figure size 936x576 with 1 Axes>"
      ]
     },
     "metadata": {},
     "output_type": "display_data"
    }
   ],
   "source": [
    "#Word cloud\n",
    "wordcloud = WordCloud(\n",
    "                          background_color='white',\n",
    "                          height=1000,\n",
    "                          width=2000,\n",
    "                          max_words=30,\n",
    "                          max_font_size=300, \n",
    "                          random_state=2\n",
    "                         ).generate(\" \".join(df['Incident-Subject']))\n",
    "print(wordcloud)\n",
    "fig = plt.figure(1)\n",
    "plt.imshow(wordcloud)\n",
    "plt.axis('off')\n",
    "plt.show()"
   ]
  },
  {
   "cell_type": "markdown",
   "metadata": {},
   "source": [
    "Word cloud by its frequency calculation"
   ]
  },
  {
   "cell_type": "markdown",
   "metadata": {},
   "source": [
    "# -Classify tickets by category:"
   ]
  },
  {
   "cell_type": "markdown",
   "metadata": {
    "ExecuteTime": {
     "end_time": "2020-12-23T16:45:07.498195Z",
     "start_time": "2020-12-23T16:45:07.491895Z"
    }
   },
   "source": [
    "First of, I will start by classifying only upon ticket body"
   ]
  },
  {
   "cell_type": "code",
   "execution_count": 24,
   "metadata": {
    "ExecuteTime": {
     "end_time": "2020-12-23T17:05:03.677538Z",
     "start_time": "2020-12-23T17:05:03.599364Z"
    }
   },
   "outputs": [],
   "source": [
    "data1 = df.dropna(subset=['Category'])"
   ]
  },
  {
   "cell_type": "code",
   "execution_count": 127,
   "metadata": {
    "ExecuteTime": {
     "end_time": "2020-12-23T17:20:37.455541Z",
     "start_time": "2020-12-23T17:20:37.378840Z"
    }
   },
   "outputs": [
    {
     "data": {
      "text/plain": [
       "142"
      ]
     },
     "execution_count": 127,
     "metadata": {},
     "output_type": "execute_result"
    }
   ],
   "source": [
    "data1['Category'].str.lower().nunique()"
   ]
  },
  {
   "cell_type": "code",
   "execution_count": 241,
   "metadata": {
    "ExecuteTime": {
     "end_time": "2020-12-23T21:36:44.913240Z",
     "start_time": "2020-12-23T21:36:44.803542Z"
    }
   },
   "outputs": [],
   "source": [
    "X = data1['Incident-Subject']\n",
    "y = data1['Category'].str.lower()"
   ]
  },
  {
   "cell_type": "code",
   "execution_count": 242,
   "metadata": {
    "ExecuteTime": {
     "end_time": "2020-12-23T21:36:49.019181Z",
     "start_time": "2020-12-23T21:36:48.910350Z"
    }
   },
   "outputs": [],
   "source": [
    "y = LabelEncoder().fit_transform(y)"
   ]
  },
  {
   "cell_type": "code",
   "execution_count": 246,
   "metadata": {
    "ExecuteTime": {
     "end_time": "2020-12-23T21:40:10.345840Z",
     "start_time": "2020-12-23T21:40:10.296096Z"
    }
   },
   "outputs": [],
   "source": [
    "X_train, X_test, y_train, y_test = train_test_split(X, y, test_size = 0.3, random_state = 26)"
   ]
  },
  {
   "cell_type": "code",
   "execution_count": 247,
   "metadata": {
    "ExecuteTime": {
     "end_time": "2020-12-23T21:41:12.585273Z",
     "start_time": "2020-12-23T21:40:13.586296Z"
    },
    "code_folding": []
   },
   "outputs": [],
   "source": [
    "pipe = Pipeline([('count', CountVectorizer(ngram_range=(1, 3))),\n",
    "                      ('tfid', TfidfTransformer())]).fit(X_train)\n",
    "\n",
    "X_train, X_test = pipe.transform(X_train), pipe.transform(X_test)"
   ]
  },
  {
   "cell_type": "code",
   "execution_count": 436,
   "metadata": {
    "ExecuteTime": {
     "end_time": "2020-12-23T21:42:11.537351Z",
     "start_time": "2020-12-23T21:42:11.511303Z"
    }
   },
   "outputs": [],
   "source": [
    "# fitting and evaluating function\n",
    "def fit_evaluate(cl, parameters,X_train=X_train,y_train=y_train):\n",
    "    \"\"\"\n",
    "    this functions takes a classifier and its parameters to fit \n",
    "    a gridsearch, predict target values and evaluate the model\n",
    "    \n",
    "    Key Arguments:\n",
    "    cl         -- classifier instantiation \n",
    "    parameters -- classifier parameters\n",
    "    \"\"\"\n",
    "    if parameters == None:\n",
    "        \n",
    "        # Fit to the training set\n",
    "        cl.fit(X_train, y_train)\n",
    "        \n",
    "        # Predict the labels of the test set: y_pred\n",
    "        y_pred = cl.predict(X_test)\n",
    "    else:\n",
    "        # instantiate grid search with specified parameters\n",
    "        cv = GridSearchCV(cl, parameters, n_jobs=-1)\n",
    "    \n",
    "        # Fit to the training set\n",
    "        cv.fit(X_train, y_train)\n",
    "\n",
    "        # Predict the labels of the test set: y_pred\n",
    "        y_pred = cv.predict(X_test)\n",
    "\n",
    "    # Compute and print metrics\n",
    "    if parameters != None:\n",
    "        print(\"Accuracy: {} \".format(cv.score(X_test, y_test)))\n",
    "        print('-' * 20)\n",
    "        print('classification report:\\n\\n{}'.format(classification_report(y_test, y_pred)))\n",
    "        print('-' * 20)\n",
    "        print(\"Tuned Model Parameters: {}\".format(cv.best_params_))\n",
    "    else:\n",
    "        print(\"Accuracy: {} \".format(cl.score(X_test, y_test)))\n",
    "        print('-' * 20)\n",
    "        print('classification report:\\n\\n{}'.format(classification_report(y_test, y_pred)))\n",
    "        print('-' * 20)"
   ]
  },
  {
   "cell_type": "code",
   "execution_count": 249,
   "metadata": {
    "ExecuteTime": {
     "end_time": "2020-12-23T21:42:51.530823Z",
     "start_time": "2020-12-23T21:42:15.888408Z"
    },
    "collapsed": true
   },
   "outputs": [
    {
     "name": "stdout",
     "output_type": "stream",
     "text": [
      "Accuracy: 0.6550162563864376 \n",
      "--------------------\n",
      "classification report:\n",
      "\n",
      "              precision    recall  f1-score   support\n",
      "\n",
      "           0       0.00      0.00      0.00         7\n",
      "           1       0.79      0.04      0.08       345\n",
      "           2       0.00      0.00      0.00         1\n",
      "           4       0.00      0.00      0.00         3\n",
      "           5       0.00      0.00      0.00        17\n",
      "           6       0.00      0.00      0.00        76\n",
      "           7       0.00      0.00      0.00        38\n",
      "           8       0.00      0.00      0.00        18\n",
      "           9       0.00      0.00      0.00         4\n",
      "          10       0.00      0.00      0.00        31\n",
      "          11       0.00      0.00      0.00        18\n",
      "          12       0.00      0.00      0.00        48\n",
      "          13       0.00      0.00      0.00         2\n",
      "          14       0.85      0.59      0.70       385\n",
      "          16       0.00      0.00      0.00         3\n",
      "          17       0.00      0.00      0.00         6\n",
      "          18       0.41      0.70      0.52      1740\n",
      "          19       0.60      0.60      0.60      1252\n",
      "          20       0.00      0.00      0.00        17\n",
      "          21       0.00      0.00      0.00         8\n",
      "          22       0.00      0.00      0.00        12\n",
      "          23       0.81      0.63      0.71       353\n",
      "          24       0.00      0.00      0.00         2\n",
      "          25       0.00      0.00      0.00         1\n",
      "          26       0.00      0.00      0.00         1\n",
      "          27       0.00      0.00      0.00        40\n",
      "          28       0.00      0.00      0.00         2\n",
      "          30       0.00      0.00      0.00         2\n",
      "          31       0.00      0.00      0.00        28\n",
      "          32       0.92      0.18      0.31       293\n",
      "          33       0.65      0.65      0.65       597\n",
      "          34       0.00      0.00      0.00         1\n",
      "          35       1.00      0.95      0.97        20\n",
      "          36       1.00      0.93      0.96       156\n",
      "          37       1.00      0.56      0.71         9\n",
      "          38       1.00      1.00      1.00        38\n",
      "          39       0.00      0.00      0.00         8\n",
      "          40       0.00      0.00      0.00         4\n",
      "          41       0.00      0.00      0.00        33\n",
      "          42       0.00      0.00      0.00         4\n",
      "          43       0.00      0.00      0.00         3\n",
      "          44       0.93      0.92      0.93       397\n",
      "          45       0.00      0.00      0.00         5\n",
      "          47       0.83      0.26      0.39        58\n",
      "          48       0.00      0.00      0.00         4\n",
      "          49       0.00      0.00      0.00        11\n",
      "          50       0.00      0.00      0.00        15\n",
      "          51       0.00      0.00      0.00        33\n",
      "          52       0.00      0.00      0.00        41\n",
      "          53       0.00      0.00      0.00        10\n",
      "          54       0.00      0.00      0.00        19\n",
      "          55       1.00      0.44      0.62        45\n",
      "          56       0.00      0.00      0.00         9\n",
      "          57       1.00      0.79      0.88        91\n",
      "          58       0.00      0.00      0.00         7\n",
      "          59       0.00      0.00      0.00        25\n",
      "          60       0.00      0.00      0.00         1\n",
      "          61       0.00      0.00      0.00         1\n",
      "          62       0.00      0.00      0.00        33\n",
      "          63       0.00      0.00      0.00         8\n",
      "          65       0.00      0.00      0.00        16\n",
      "          66       1.00      1.00      1.00        21\n",
      "          67       0.81      0.20      0.33       147\n",
      "          68       0.00      0.00      0.00         4\n",
      "          69       0.78      0.97      0.87      2317\n",
      "          70       0.00      0.00      0.00         3\n",
      "          71       0.00      0.00      0.00        22\n",
      "          72       0.00      0.00      0.00        35\n",
      "          73       0.00      0.00      0.00         9\n",
      "          74       0.00      0.00      0.00        12\n",
      "          75       0.00      0.00      0.00         8\n",
      "          76       0.00      0.00      0.00        12\n",
      "          77       0.00      0.00      0.00        89\n",
      "          78       0.98      0.97      0.97       213\n",
      "          79       1.00      0.25      0.40        40\n",
      "          80       0.00      0.00      0.00         5\n",
      "          81       0.00      0.00      0.00        21\n",
      "          82       1.00      0.78      0.88        51\n",
      "          83       0.59      0.27      0.37       314\n",
      "          84       0.96      0.92      0.94        53\n",
      "          85       1.00      0.07      0.14        80\n",
      "          86       0.00      0.00      0.00         5\n",
      "          87       0.72      0.21      0.32       267\n",
      "          88       0.00      0.00      0.00         5\n",
      "          89       0.00      0.00      0.00        37\n",
      "          90       0.00      0.00      0.00        27\n",
      "          91       0.00      0.00      0.00       165\n",
      "          92       0.00      0.00      0.00        17\n",
      "          94       0.00      0.00      0.00         4\n",
      "          95       0.00      0.00      0.00        46\n",
      "          96       0.00      0.00      0.00         1\n",
      "          97       0.93      0.67      0.78       281\n",
      "          98       0.00      0.00      0.00         4\n",
      "          99       0.00      0.00      0.00         1\n",
      "         101       1.00      0.99      0.99       873\n",
      "         102       0.00      0.00      0.00        12\n",
      "         103       1.00      0.03      0.06        94\n",
      "         104       1.00      0.38      0.55        16\n",
      "         105       1.00      0.70      0.82        73\n",
      "         106       0.00      0.00      0.00         2\n",
      "         107       1.00      0.04      0.08        23\n",
      "         108       0.00      0.00      0.00         2\n",
      "         109       0.00      0.00      0.00        23\n",
      "         110       0.00      0.00      0.00        55\n",
      "         111       0.00      0.00      0.00         9\n",
      "         112       0.00      0.00      0.00         4\n",
      "         113       0.00      0.00      0.00        21\n",
      "         114       0.88      0.70      0.78       738\n",
      "         115       0.79      0.44      0.56        25\n",
      "         116       0.00      0.00      0.00         8\n",
      "         117       0.74      0.13      0.22       239\n",
      "         118       0.00      0.00      0.00         7\n",
      "         119       0.00      0.00      0.00        23\n",
      "         121       0.00      0.00      0.00       109\n",
      "         122       0.00      0.00      0.00         9\n",
      "         123       0.00      0.00      0.00       103\n",
      "         124       0.00      0.00      0.00         1\n",
      "         125       0.00      0.00      0.00        14\n",
      "         126       0.00      0.00      0.00         1\n",
      "         127       0.00      0.00      0.00         1\n",
      "         128       0.46      0.87      0.60      2256\n",
      "         129       0.00      0.00      0.00        10\n",
      "         130       1.00      0.99      0.99        93\n",
      "         131       0.00      0.00      0.00         1\n",
      "         132       0.00      0.00      0.00        87\n",
      "         133       0.00      0.00      0.00         4\n",
      "         135       0.00      0.00      0.00         2\n",
      "         136       0.00      0.00      0.00         6\n",
      "         137       0.72      0.96      0.82       667\n",
      "         138       0.99      0.98      0.98       591\n",
      "         139       0.00      0.00      0.00         1\n",
      "         140       0.59      0.25      0.35       108\n",
      "         141       0.00      0.00      0.00       142\n",
      "\n",
      "    accuracy                           0.66     17224\n",
      "   macro avg       0.25      0.17      0.19     17224\n",
      "weighted avg       0.64      0.66      0.61     17224\n",
      "\n",
      "--------------------\n"
     ]
    },
    {
     "name": "stderr",
     "output_type": "stream",
     "text": [
      "/opt/conda/lib/python3.6/site-packages/sklearn/metrics/classification.py:1437: UndefinedMetricWarning: Precision and F-score are ill-defined and being set to 0.0 in labels with no predicted samples.\n",
      "  'precision', 'predicted', average, warn_for)\n"
     ]
    }
   ],
   "source": [
    "clf1 = MultinomialNB()\n",
    "parameters = None\n",
    "fit_evaluate(clf1,parameters)"
   ]
  },
  {
   "cell_type": "code",
   "execution_count": 251,
   "metadata": {
    "ExecuteTime": {
     "end_time": "2020-12-24T03:56:05.429207Z",
     "start_time": "2020-12-24T00:07:15.727181Z"
    },
    "collapsed": true
   },
   "outputs": [
    {
     "name": "stdout",
     "output_type": "stream",
     "text": [
      "Accuracy: 0.6142011147236415 \n",
      "--------------------\n",
      "classification report:\n",
      "\n",
      "              precision    recall  f1-score   support\n",
      "\n",
      "           0       0.07      0.29      0.11         7\n",
      "           1       0.61      0.18      0.28       345\n",
      "           2       0.00      0.00      0.00         1\n",
      "           3       0.00      0.00      0.00         0\n",
      "           4       0.05      0.33      0.08         3\n",
      "           5       0.00      0.00      0.00        17\n",
      "           6       0.89      0.62      0.73        76\n",
      "           7       0.60      0.63      0.62        38\n",
      "           8       0.47      0.89      0.62        18\n",
      "           9       0.00      0.00      0.00         4\n",
      "          10       0.36      0.52      0.43        31\n",
      "          11       0.00      0.00      0.00        18\n",
      "          12       0.39      0.23      0.29        48\n",
      "          13       0.00      0.00      0.00         2\n",
      "          14       0.68      0.44      0.54       385\n",
      "          15       0.00      0.00      0.00         0\n",
      "          16       0.00      0.00      0.00         3\n",
      "          17       0.04      0.33      0.07         6\n",
      "          18       0.58      0.43      0.49      1740\n",
      "          19       0.67      0.49      0.56      1252\n",
      "          20       0.12      0.12      0.12        17\n",
      "          21       0.29      0.50      0.36         8\n",
      "          22       0.00      0.00      0.00        12\n",
      "          23       0.82      0.56      0.66       353\n",
      "          24       0.00      0.00      0.00         2\n",
      "          25       0.00      0.00      0.00         1\n",
      "          26       0.00      0.00      0.00         1\n",
      "          27       0.52      0.68      0.59        40\n",
      "          28       0.00      0.00      0.00         2\n",
      "          29       0.00      0.00      0.00         0\n",
      "          30       0.00      0.00      0.00         2\n",
      "          31       0.11      0.25      0.16        28\n",
      "          32       0.66      0.37      0.47       293\n",
      "          33       0.72      0.48      0.58       597\n",
      "          34       0.00      0.00      0.00         1\n",
      "          35       0.95      1.00      0.98        20\n",
      "          36       0.91      0.89      0.90       156\n",
      "          37       0.82      1.00      0.90         9\n",
      "          38       1.00      1.00      1.00        38\n",
      "          39       0.33      0.12      0.18         8\n",
      "          40       0.02      0.25      0.03         4\n",
      "          41       0.11      0.12      0.12        33\n",
      "          42       0.00      0.00      0.00         4\n",
      "          43       0.00      0.00      0.00         3\n",
      "          44       0.91      0.91      0.91       397\n",
      "          45       0.07      0.20      0.11         5\n",
      "          46       0.00      0.00      0.00         0\n",
      "          47       0.57      0.52      0.54        58\n",
      "          48       0.02      0.25      0.04         4\n",
      "          49       0.00      0.00      0.00        11\n",
      "          50       0.15      0.40      0.22        15\n",
      "          51       0.61      0.61      0.61        33\n",
      "          52       0.36      0.22      0.27        41\n",
      "          53       0.00      0.00      0.00        10\n",
      "          54       0.20      0.16      0.18        19\n",
      "          55       0.24      0.11      0.15        45\n",
      "          56       0.00      0.00      0.00         9\n",
      "          57       0.77      0.69      0.73        91\n",
      "          58       0.00      0.00      0.00         7\n",
      "          59       0.15      0.20      0.17        25\n",
      "          60       0.00      0.00      0.00         1\n",
      "          61       0.00      0.00      0.00         1\n",
      "          62       0.80      0.48      0.60        33\n",
      "          63       0.00      0.00      0.00         8\n",
      "          64       0.00      0.00      0.00         0\n",
      "          65       0.18      0.25      0.21        16\n",
      "          66       1.00      1.00      1.00        21\n",
      "          67       0.82      0.67      0.74       147\n",
      "          68       0.07      0.25      0.11         4\n",
      "          69       0.79      0.81      0.80      2317\n",
      "          70       0.00      0.00      0.00         3\n",
      "          71       0.22      0.18      0.20        22\n",
      "          72       0.26      0.54      0.35        35\n",
      "          73       0.15      0.33      0.21         9\n",
      "          74       0.00      0.00      0.00        12\n",
      "          75       0.12      0.25      0.16         8\n",
      "          76       0.12      0.25      0.16        12\n",
      "          77       0.24      0.11      0.15        89\n",
      "          78       0.99      0.91      0.95       213\n",
      "          79       0.27      0.28      0.27        40\n",
      "          80       0.04      0.20      0.07         5\n",
      "          81       0.06      0.24      0.10        21\n",
      "          82       0.79      0.86      0.82        51\n",
      "          83       0.63      0.19      0.29       314\n",
      "          84       0.62      0.79      0.69        53\n",
      "          85       0.83      0.31      0.45        80\n",
      "          86       0.00      0.00      0.00         5\n",
      "          87       0.71      0.30      0.42       267\n",
      "          88       0.14      0.60      0.23         5\n",
      "          89       0.34      0.35      0.35        37\n",
      "          90       0.00      0.00      0.00        27\n",
      "          91       0.31      0.11      0.16       165\n",
      "          92       0.25      0.35      0.29        17\n",
      "          93       0.00      0.00      0.00         0\n",
      "          94       0.00      0.00      0.00         4\n",
      "          95       0.37      0.50      0.43        46\n",
      "          96       0.00      0.00      0.00         1\n",
      "          97       0.91      0.77      0.84       281\n",
      "          98       0.00      0.00      0.00         4\n",
      "          99       0.00      0.00      0.00         1\n",
      "         100       0.00      0.00      0.00         0\n",
      "         101       0.99      0.99      0.99       873\n",
      "         102       0.09      0.33      0.14        12\n",
      "         103       0.45      0.36      0.40        94\n",
      "         104       0.87      0.81      0.84        16\n",
      "         105       0.44      0.66      0.52        73\n",
      "         106       0.00      0.00      0.00         2\n",
      "         107       0.61      0.87      0.71        23\n",
      "         108       0.00      0.00      0.00         2\n",
      "         109       0.17      0.39      0.24        23\n",
      "         110       0.20      0.13      0.16        55\n",
      "         111       0.00      0.00      0.00         9\n",
      "         112       0.00      0.00      0.00         4\n",
      "         113       0.21      0.48      0.29        21\n",
      "         114       0.85      0.67      0.75       738\n",
      "         115       0.49      0.68      0.57        25\n",
      "         116       0.00      0.00      0.00         8\n",
      "         117       0.57      0.36      0.45       239\n",
      "         118       0.03      0.14      0.05         7\n",
      "         119       0.25      0.04      0.07        23\n",
      "         120       0.00      0.00      0.00         0\n",
      "         121       0.22      0.12      0.15       109\n",
      "         122       0.25      1.00      0.40         9\n",
      "         123       0.67      0.25      0.37       103\n",
      "         124       0.00      0.00      0.00         1\n",
      "         125       0.19      0.36      0.25        14\n",
      "         126       0.00      0.00      0.00         1\n",
      "         127       0.00      0.00      0.00         1\n",
      "         128       0.52      0.74      0.61      2256\n",
      "         129       0.12      0.10      0.11        10\n",
      "         130       0.81      0.99      0.89        93\n",
      "         131       0.00      0.00      0.00         1\n",
      "         132       0.36      0.24      0.29        87\n",
      "         133       0.00      0.00      0.00         4\n",
      "         134       0.00      0.00      0.00         0\n",
      "         135       0.00      0.00      0.00         2\n",
      "         136       0.02      0.17      0.03         6\n",
      "         137       0.75      0.91      0.82       667\n",
      "         138       0.99      0.97      0.98       591\n",
      "         139       0.00      0.00      0.00         1\n",
      "         140       0.61      0.50      0.55       108\n",
      "         141       0.69      0.20      0.32       142\n",
      "\n",
      "    accuracy                           0.61     17224\n",
      "   macro avg       0.29      0.30      0.27     17224\n",
      "weighted avg       0.68      0.61      0.63     17224\n",
      "\n",
      "--------------------\n"
     ]
    },
    {
     "name": "stderr",
     "output_type": "stream",
     "text": [
      "/opt/conda/lib/python3.6/site-packages/sklearn/metrics/classification.py:1439: UndefinedMetricWarning: Recall and F-score are ill-defined and being set to 0.0 in labels with no true samples.\n",
      "  'recall', 'true', average, warn_for)\n"
     ]
    }
   ],
   "source": [
    "clf2 = LGBMClassifier(n_jobs =-1, learning_rate=0.05, random_state=26, n_estimators=10, num_leaves=120)\n",
    "fit_evaluate(clf2,parameters)"
   ]
  },
  {
   "cell_type": "markdown",
   "metadata": {},
   "source": [
    "**Category data is really missy and needs a lot of cleaning**"
   ]
  },
  {
   "cell_type": "code",
   "execution_count": 128,
   "metadata": {},
   "outputs": [],
   "source": [
    "data2 = preprocess(data1,'Category',digits=False,stopwords=False)"
   ]
  },
  {
   "cell_type": "code",
   "execution_count": 130,
   "metadata": {
    "collapsed": true
   },
   "outputs": [
    {
     "data": {
      "text/plain": [
       "array(['accès applications', 'active directory', 'ad', 'alerte asp',\n",
       "       'alerte cpu', 'alerte espace disque', 'alerte mémoire',\n",
       "       'alerte mémoire physique', 'alertes rtms', 'analyse  contrôle',\n",
       "       'applicatif', 'applicatifs', 'application', 'archivage', 'as400',\n",
       "       'as400 system  système as400  bt400', 'asp', 'automator', 'autre',\n",
       "       'autres', 'back up box', 'backup', 'backup  sauvegarde',\n",
       "       'backup box', 'bandothèque', 'charge cpu', 'citrix',\n",
       "       'communication', 'compte vpn', 'comptes users',\n",
       "       'comptes utilisateurs', 'contrôle', 'contrôles',\n",
       "       'création de boite darchives', 'création de profil notes',\n",
       "       'création de vm', 'création profil as400',\n",
       "       'création profil talentia', 'debian', 'demande de prestation',\n",
       "       'demande dinformation', 'demande projet lotus', 'disk space',\n",
       "       'documentation', 'données pas à jour', 'downtime',\n",
       "       'droits  habilitations', 'duplication', 'détection',\n",
       "       'espace disque', 'esx  vmware', 'evolution périmétre infogérance',\n",
       "       'exploitation', 'flux', 'gestion comptes', 'gestion de profil',\n",
       "       'gestion vm', 'hardware  ressource', 'helpdesk', 'impression',\n",
       "       'incident de sécurité', 'information', 'infrastructure', 'interne',\n",
       "       'jde reactivation profil net server', 'job en message', 'jobs m3',\n",
       "       'landesk', 'linux', 'logiciel  configuration', 'm3  x86',\n",
       "       'm3 asynchrones', 'maj', 'matériel', 'message as400 en erreur',\n",
       "       'messagerie', 'mise en production', 'mise à jour', 'mises à jour',\n",
       "       'modification de configuration', 'modification de profil notes',\n",
       "       'monitoring', 'montage de bandes', 'màj applicative', 'mémoire',\n",
       "       'network', 'network  réseau', 'oracle', 'os', 'other',\n",
       "       'other  autres', 'parametrage', 'performance',\n",
       "       'performance  performance', 'physical memory', 'prod', 'projet',\n",
       "       'périmètre du contrat', 'reporting', 'reseau', 'restauration',\n",
       "       'restauration de boite mail', 'restauration de fichier',\n",
       "       'restauration de fichiers', 'restauration mensuelle',\n",
       "       'restaurations', 'réplication', 'réseau', 'réseaux',\n",
       "       'san  storage', 'san storage', 'sauvegarde', 'sauvegarde  as400',\n",
       "       'sauvegarde  x86', 'sauvegardes', 'securite', 'security',\n",
       "       'security  sécurité', 'server', 'service cbvalmapec',\n",
       "       'service down', 'services arrêtés', 'stockage',\n",
       "       'storage  stockage', 'supervision', 'support',\n",
       "       'suppression de profil notes', 'system x86  systeme x86  btwintel',\n",
       "       'systeme', 'sécurité', 'test', 'test de restauration', 'tma',\n",
       "       'travail à la demande', 'tâche applicative', 'vérification',\n",
       "       'windows', 'x86'], dtype=object)"
      ]
     },
     "execution_count": 130,
     "metadata": {},
     "output_type": "execute_result"
    }
   ],
   "source": [
    "np.sort(data2['Category'].unique())"
   ]
  },
  {
   "cell_type": "code",
   "execution_count": 131,
   "metadata": {},
   "outputs": [],
   "source": [
    "data2['Category'].replace(['performance  performance'], 'performance', inplace=True)\n",
    "data2['Category'].replace(['réseaux','network  réseau','réseau', 'reseau'], 'network', inplace=True)\n",
    "data2['Category'].replace(['incident de sécurité','security  sécurité','sécurité','securite'], 'security', inplace=True)\n",
    "data2['Category'].replace(['back up box','backup  sauvegarde','backup box','sauvegarde',\n",
    "                           'sauvegardes', 'sauvegarde  x86', 'sauvegarde  as400'], 'backup', inplace=True)\n",
    "\n",
    "data2['Category'].replace(['other', 'other  autres','autres'], 'autre', inplace=True)\n",
    "data2['Category'].replace(['restauration de fichier', 'restauration de fichiers','restaurations'], 'restauration', inplace=True)\n",
    "data2['Category'].replace(['applicatif', 'applicatifs'], 'application', inplace=True)"
   ]
  },
  {
   "cell_type": "code",
   "execution_count": 132,
   "metadata": {},
   "outputs": [],
   "source": [
    "data2['Category'].replace(['contrôles'], 'contrôle', inplace=True)\n",
    "data2['Category'].replace(['mises à jour'],'mise à jour', inplace=True) \n",
    "data2['Category'].replace(['service cbvalmapec', 'service down', 'services arrêtés'],'service down', inplace=True)\n",
    "data2['Category'].replace(['storage  stockage'],'stockage', inplace=True) "
   ]
  },
  {
   "cell_type": "code",
   "execution_count": 180,
   "metadata": {},
   "outputs": [
    {
     "name": "stdout",
     "output_type": "stream",
     "text": [
      "Wall time: 6 ms\n"
     ]
    },
    {
     "data": {
      "text/plain": [
       "109"
      ]
     },
     "execution_count": 180,
     "metadata": {},
     "output_type": "execute_result"
    }
   ],
   "source": [
    "%%time\n",
    "data2['Category'].nunique()"
   ]
  },
  {
   "cell_type": "markdown",
   "metadata": {},
   "source": [
    "**Now lets try neive bayes classifier after cleaning labels**"
   ]
  },
  {
   "cell_type": "code",
   "execution_count": 146,
   "metadata": {
    "ExecuteTime": {
     "end_time": "2020-12-23T21:36:44.913240Z",
     "start_time": "2020-12-23T21:36:44.803542Z"
    }
   },
   "outputs": [],
   "source": [
    "X2 = data2['Incident-Subject']\n",
    "y2 = data2['Category'].str.lower()"
   ]
  },
  {
   "cell_type": "code",
   "execution_count": 148,
   "metadata": {
    "ExecuteTime": {
     "end_time": "2020-12-23T21:36:49.019181Z",
     "start_time": "2020-12-23T21:36:48.910350Z"
    }
   },
   "outputs": [],
   "source": [
    "y2 = LabelEncoder().fit_transform(y2)"
   ]
  },
  {
   "cell_type": "code",
   "execution_count": 149,
   "metadata": {
    "ExecuteTime": {
     "end_time": "2020-12-23T21:40:10.345840Z",
     "start_time": "2020-12-23T21:40:10.296096Z"
    }
   },
   "outputs": [],
   "source": [
    "X_train, X_test, y_train, y_test = train_test_split(X2, y2, test_size = 0.3, random_state = 26)"
   ]
  },
  {
   "cell_type": "code",
   "execution_count": 150,
   "metadata": {
    "ExecuteTime": {
     "end_time": "2020-12-23T21:41:12.585273Z",
     "start_time": "2020-12-23T21:40:13.586296Z"
    },
    "code_folding": []
   },
   "outputs": [],
   "source": [
    "pipe = Pipeline([('count', CountVectorizer(ngram_range=(1, 3))),\n",
    "                      ('tfid', TfidfTransformer())]).fit(X_train)\n",
    "\n",
    "X_train, X_test = pipe.transform(X_train), pipe.transform(X_test)"
   ]
  },
  {
   "cell_type": "code",
   "execution_count": 183,
   "metadata": {
    "collapsed": true
   },
   "outputs": [
    {
     "name": "stdout",
     "output_type": "stream",
     "text": [
      "Accuracy: 0.6740013934045518 \n",
      "--------------------\n",
      "classification report:\n",
      "\n",
      "              precision    recall  f1-score   support\n",
      "\n",
      "           0       0.00      0.00      0.00         7\n",
      "           1       0.79      0.04      0.08       345\n",
      "           2       0.00      0.00      0.00         1\n",
      "           4       0.00      0.00      0.00         3\n",
      "           5       0.00      0.00      0.00        17\n",
      "           6       0.00      0.00      0.00        76\n",
      "           7       0.00      0.00      0.00        38\n",
      "           8       0.00      0.00      0.00        18\n",
      "           9       0.00      0.00      0.00         4\n",
      "          10       0.00      0.00      0.00        97\n",
      "          11       0.00      0.00      0.00         2\n",
      "          12       0.88      0.53      0.66       385\n",
      "          14       0.00      0.00      0.00         3\n",
      "          15       0.00      0.00      0.00         6\n",
      "          16       0.44      0.80      0.57      3191\n",
      "          17       0.82      0.73      0.78      1386\n",
      "          18       0.00      0.00      0.00         1\n",
      "          19       0.00      0.00      0.00        40\n",
      "          20       0.00      0.00      0.00         2\n",
      "          22       0.00      0.00      0.00         2\n",
      "          23       0.00      0.00      0.00        28\n",
      "          24       0.94      0.12      0.21       293\n",
      "          25       0.74      0.56      0.64       598\n",
      "          26       1.00      0.95      0.97        20\n",
      "          27       1.00      0.92      0.96       156\n",
      "          28       1.00      0.22      0.36         9\n",
      "          29       1.00      1.00      1.00        38\n",
      "          30       0.00      0.00      0.00         8\n",
      "          31       0.00      0.00      0.00         4\n",
      "          32       0.00      0.00      0.00         4\n",
      "          33       0.00      0.00      0.00        33\n",
      "          34       0.00      0.00      0.00         3\n",
      "          35       0.93      0.92      0.93       397\n",
      "          36       0.00      0.00      0.00         5\n",
      "          38       0.00      0.00      0.00        58\n",
      "          39       0.00      0.00      0.00         4\n",
      "          40       0.00      0.00      0.00        11\n",
      "          41       0.00      0.00      0.00        15\n",
      "          42       0.00      0.00      0.00        33\n",
      "          43       0.00      0.00      0.00        41\n",
      "          44       0.00      0.00      0.00        10\n",
      "          45       0.00      0.00      0.00        19\n",
      "          46       1.00      0.33      0.50        45\n",
      "          47       0.00      0.00      0.00         9\n",
      "          48       1.00      0.73      0.84        91\n",
      "          49       0.00      0.00      0.00         7\n",
      "          50       0.00      0.00      0.00        25\n",
      "          51       0.00      0.00      0.00         1\n",
      "          52       0.00      0.00      0.00         1\n",
      "          53       0.00      0.00      0.00         8\n",
      "          55       0.00      0.00      0.00        16\n",
      "          56       1.00      1.00      1.00        21\n",
      "          57       0.96      0.16      0.27       147\n",
      "          58       0.00      0.00      0.00         4\n",
      "          59       0.82      0.94      0.88      2317\n",
      "          60       0.00      0.00      0.00         3\n",
      "          61       0.00      0.00      0.00        22\n",
      "          62       0.00      0.00      0.00        35\n",
      "          63       0.00      0.00      0.00         9\n",
      "          64       0.00      0.00      0.00        12\n",
      "          65       0.00      0.00      0.00         8\n",
      "          66       0.00      0.00      0.00        12\n",
      "          67       0.00      0.00      0.00        89\n",
      "          68       1.00      0.96      0.98       213\n",
      "          69       1.00      0.22      0.36        45\n",
      "          70       0.00      0.00      0.00        21\n",
      "          71       1.00      0.78      0.88        51\n",
      "          72       0.71      0.15      0.25       314\n",
      "          73       0.96      0.92      0.94        53\n",
      "          74       1.00      0.07      0.14        80\n",
      "          75       0.00      0.00      0.00         5\n",
      "          76       0.69      0.12      0.21       348\n",
      "          77       0.00      0.00      0.00        37\n",
      "          78       0.00      0.00      0.00        27\n",
      "          79       0.00      0.00      0.00         4\n",
      "          80       0.00      0.00      0.00        47\n",
      "          81       0.93      0.67      0.78       281\n",
      "          82       0.00      0.00      0.00         4\n",
      "          83       0.00      0.00      0.00         1\n",
      "          85       1.00      0.99      0.99       873\n",
      "          86       1.00      0.37      0.54       171\n",
      "          87       0.00      0.00      0.00        16\n",
      "          88       0.00      0.00      0.00        23\n",
      "          89       0.00      0.00      0.00        23\n",
      "          90       0.00      0.00      0.00         4\n",
      "          91       0.00      0.00      0.00        21\n",
      "          92       0.00      0.00      0.00        67\n",
      "          93       0.00      0.00      0.00       109\n",
      "          94       1.00      0.02      0.03       113\n",
      "          95       0.00      0.00      0.00        16\n",
      "          96       0.59      0.78      0.67      2256\n",
      "          97       0.00      0.00      0.00        10\n",
      "          98       1.00      0.98      0.99        93\n",
      "          99       0.00      0.00      0.00         1\n",
      "         100       0.00      0.00      0.00        87\n",
      "         102       0.00      0.00      0.00         2\n",
      "         103       0.00      0.00      0.00         6\n",
      "         104       0.73      0.95      0.83       667\n",
      "         105       0.99      0.97      0.98       591\n",
      "         106       0.00      0.00      0.00         1\n",
      "         107       0.50      0.10      0.17       108\n",
      "         108       0.00      0.00      0.00       142\n",
      "\n",
      "    accuracy                           0.67     17224\n",
      "   macro avg       0.28      0.19      0.20     17224\n",
      "weighted avg       0.67      0.67      0.63     17224\n",
      "\n",
      "--------------------\n",
      "Wall time: 4.28 s\n"
     ]
    },
    {
     "name": "stderr",
     "output_type": "stream",
     "text": [
      "C:\\ProgramData\\Anaconda3\\lib\\site-packages\\sklearn\\metrics\\_classification.py:1221: UndefinedMetricWarning: Precision and F-score are ill-defined and being set to 0.0 in labels with no predicted samples. Use `zero_division` parameter to control this behavior.\n",
      "  _warn_prf(average, modifier, msg_start, len(result))\n"
     ]
    }
   ],
   "source": [
    "%%time\n",
    "clf1 = MultinomialNB()\n",
    "parameters = None\n",
    "fit_evaluate(clf1,parameters)"
   ]
  },
  {
   "cell_type": "markdown",
   "metadata": {},
   "source": [
    "**Now I will clean Ticket Title to merge it with Ticket body and add auther**"
   ]
  },
  {
   "cell_type": "code",
   "execution_count": 259,
   "metadata": {},
   "outputs": [],
   "source": [
    "data3 = preprocess(data2,column='Ticket Title')"
   ]
  },
  {
   "cell_type": "code",
   "execution_count": 260,
   "metadata": {},
   "outputs": [],
   "source": [
    "# adding title with double weight as it should give better explanation for the problem\n",
    "\n",
    "X3 = data3['Incident-Subject']  + \" \" + 2*data3['Ticket Title']\n",
    "y3 = data3['Category']"
   ]
  },
  {
   "cell_type": "code",
   "execution_count": 261,
   "metadata": {},
   "outputs": [],
   "source": [
    "pipe = Pipeline([('count', CountVectorizer(ngram_range=(1, 3))),\n",
    "                      ('tfid', TfidfTransformer())]).fit(X3)"
   ]
  },
  {
   "cell_type": "code",
   "execution_count": 270,
   "metadata": {},
   "outputs": [
    {
     "data": {
      "text/plain": [
       "<57412x1206795 sparse matrix of type '<class 'numpy.float64'>'\n",
       "\twith 5864987 stored elements in Compressed Sparse Row format>"
      ]
     },
     "execution_count": 270,
     "metadata": {},
     "output_type": "execute_result"
    }
   ],
   "source": [
    "my_X = pipe.transform(X3)\n",
    "my_X"
   ]
  },
  {
   "cell_type": "code",
   "execution_count": 269,
   "metadata": {},
   "outputs": [
    {
     "data": {
      "text/plain": [
       "<57412x360 sparse matrix of type '<class 'numpy.float64'>'\n",
       "\twith 57412 stored elements in Compressed Sparse Row format>"
      ]
     },
     "execution_count": 269,
     "metadata": {},
     "output_type": "execute_result"
    }
   ],
   "source": [
    "# transform 'Author' to one-hot-encoding of sparse matrix.\n",
    "author = OneHotEncoder().fit_transform(data3['Author'].str.lower().to_numpy().reshape(-1, 1))\n",
    "author"
   ]
  },
  {
   "cell_type": "code",
   "execution_count": 275,
   "metadata": {},
   "outputs": [
    {
     "data": {
      "text/plain": [
       "<57412x1207155 sparse matrix of type '<class 'numpy.float64'>'\n",
       "\twith 5922399 stored elements in COOrdinate format>"
      ]
     },
     "execution_count": 275,
     "metadata": {},
     "output_type": "execute_result"
    }
   ],
   "source": [
    "# concatenate training data sparse matrix with 'Auther' sparse matrix.\n",
    "X3 = hstack((my_X,author))\n",
    "X3"
   ]
  },
  {
   "cell_type": "code",
   "execution_count": 276,
   "metadata": {
    "ExecuteTime": {
     "end_time": "2020-12-23T21:36:49.019181Z",
     "start_time": "2020-12-23T21:36:48.910350Z"
    }
   },
   "outputs": [],
   "source": [
    "y3 = LabelEncoder().fit_transform(y3)"
   ]
  },
  {
   "cell_type": "code",
   "execution_count": 277,
   "metadata": {
    "ExecuteTime": {
     "end_time": "2020-12-23T21:40:10.345840Z",
     "start_time": "2020-12-23T21:40:10.296096Z"
    }
   },
   "outputs": [],
   "source": [
    "X_train, X_test, y_train, y_test = train_test_split(X3, y3, test_size = 0.3, random_state = 26)"
   ]
  },
  {
   "cell_type": "code",
   "execution_count": 278,
   "metadata": {
    "collapsed": true
   },
   "outputs": [
    {
     "name": "stdout",
     "output_type": "stream",
     "text": [
      "Accuracy: 0.7159777055271714 \n",
      "--------------------\n",
      "classification report:\n",
      "\n",
      "              precision    recall  f1-score   support\n",
      "\n",
      "           0       0.00      0.00      0.00         7\n",
      "           1       0.00      0.00      0.00       345\n",
      "           2       0.00      0.00      0.00         1\n",
      "           4       0.00      0.00      0.00         3\n",
      "           5       0.00      0.00      0.00        17\n",
      "           6       1.00      0.78      0.87        76\n",
      "           7       0.00      0.00      0.00        38\n",
      "           8       0.00      0.00      0.00        18\n",
      "           9       0.00      0.00      0.00         4\n",
      "          10       1.00      0.12      0.22        97\n",
      "          11       0.00      0.00      0.00         2\n",
      "          12       0.86      0.65      0.74       385\n",
      "          14       0.00      0.00      0.00         3\n",
      "          15       0.00      0.00      0.00         6\n",
      "          16       0.48      0.83      0.61      3191\n",
      "          17       0.78      0.78      0.78      1386\n",
      "          18       0.00      0.00      0.00         1\n",
      "          19       1.00      0.25      0.40        40\n",
      "          20       0.00      0.00      0.00         2\n",
      "          22       0.00      0.00      0.00         2\n",
      "          23       0.00      0.00      0.00        28\n",
      "          24       0.91      0.07      0.13       293\n",
      "          25       0.76      0.67      0.71       598\n",
      "          26       1.00      0.75      0.86        20\n",
      "          27       0.80      0.90      0.85       156\n",
      "          28       0.00      0.00      0.00         9\n",
      "          29       1.00      1.00      1.00        38\n",
      "          30       0.00      0.00      0.00         8\n",
      "          31       0.00      0.00      0.00         4\n",
      "          32       0.00      0.00      0.00         4\n",
      "          33       0.00      0.00      0.00        33\n",
      "          34       0.00      0.00      0.00         3\n",
      "          35       0.95      0.94      0.95       397\n",
      "          36       0.00      0.00      0.00         5\n",
      "          38       0.75      0.05      0.10        58\n",
      "          39       0.00      0.00      0.00         4\n",
      "          40       0.00      0.00      0.00        11\n",
      "          41       0.00      0.00      0.00        15\n",
      "          42       1.00      0.24      0.39        33\n",
      "          43       0.00      0.00      0.00        41\n",
      "          44       0.00      0.00      0.00        10\n",
      "          45       0.00      0.00      0.00        19\n",
      "          46       1.00      0.44      0.62        45\n",
      "          47       0.00      0.00      0.00         9\n",
      "          48       0.72      0.84      0.78        91\n",
      "          49       0.00      0.00      0.00         7\n",
      "          50       0.00      0.00      0.00        25\n",
      "          51       0.00      0.00      0.00         1\n",
      "          52       0.00      0.00      0.00         1\n",
      "          53       0.00      0.00      0.00         8\n",
      "          55       0.00      0.00      0.00        16\n",
      "          56       1.00      1.00      1.00        21\n",
      "          57       1.00      0.28      0.44       147\n",
      "          58       0.00      0.00      0.00         4\n",
      "          59       0.83      1.00      0.90      2317\n",
      "          60       0.00      0.00      0.00         3\n",
      "          61       0.00      0.00      0.00        22\n",
      "          62       0.00      0.00      0.00        35\n",
      "          63       0.00      0.00      0.00         9\n",
      "          64       0.00      0.00      0.00        12\n",
      "          65       0.00      0.00      0.00         8\n",
      "          66       0.00      0.00      0.00        12\n",
      "          67       1.00      0.01      0.02        89\n",
      "          68       0.92      0.99      0.95       213\n",
      "          69       1.00      0.22      0.36        45\n",
      "          70       0.00      0.00      0.00        21\n",
      "          71       1.00      0.04      0.08        51\n",
      "          72       0.64      0.31      0.42       314\n",
      "          73       0.96      0.98      0.97        53\n",
      "          74       0.00      0.00      0.00        80\n",
      "          75       0.00      0.00      0.00         5\n",
      "          76       0.74      0.09      0.16       348\n",
      "          77       0.00      0.00      0.00        37\n",
      "          78       0.00      0.00      0.00        27\n",
      "          79       0.00      0.00      0.00         4\n",
      "          80       0.00      0.00      0.00        47\n",
      "          81       0.94      0.87      0.90       281\n",
      "          82       0.00      0.00      0.00         4\n",
      "          83       0.00      0.00      0.00         1\n",
      "          85       1.00      0.99      0.99       873\n",
      "          86       0.99      0.47      0.63       171\n",
      "          87       0.00      0.00      0.00        16\n",
      "          88       0.00      0.00      0.00        23\n",
      "          89       0.00      0.00      0.00        23\n",
      "          90       0.00      0.00      0.00         4\n",
      "          91       0.00      0.00      0.00        21\n",
      "          92       1.00      0.10      0.19        67\n",
      "          93       0.00      0.00      0.00       109\n",
      "          94       0.00      0.00      0.00       113\n",
      "          95       0.00      0.00      0.00        16\n",
      "          96       0.74      0.82      0.78      2256\n",
      "          97       0.00      0.00      0.00        10\n",
      "          98       1.00      0.92      0.96        93\n",
      "          99       0.00      0.00      0.00         1\n",
      "         100       0.00      0.00      0.00        87\n",
      "         102       0.00      0.00      0.00         2\n",
      "         103       0.00      0.00      0.00         6\n",
      "         104       0.73      0.95      0.83       667\n",
      "         105       0.99      0.98      0.99       591\n",
      "         106       0.00      0.00      0.00         1\n",
      "         107       0.68      0.19      0.30       108\n",
      "         108       1.00      0.15      0.27       142\n",
      "\n",
      "    accuracy                           0.72     17224\n",
      "   macro avg       0.32      0.20      0.22     17224\n",
      "weighted avg       0.70      0.72      0.67     17224\n",
      "\n",
      "--------------------\n",
      "Wall time: 7.19 s\n"
     ]
    },
    {
     "name": "stderr",
     "output_type": "stream",
     "text": [
      "C:\\ProgramData\\Anaconda3\\lib\\site-packages\\sklearn\\metrics\\_classification.py:1221: UndefinedMetricWarning: Precision and F-score are ill-defined and being set to 0.0 in labels with no predicted samples. Use `zero_division` parameter to control this behavior.\n",
      "  _warn_prf(average, modifier, msg_start, len(result))\n"
     ]
    }
   ],
   "source": [
    "%%time\n",
    "clf1 = MultinomialNB()\n",
    "parameters = None\n",
    "fit_evaluate(clf1,parameters)"
   ]
  },
  {
   "cell_type": "markdown",
   "metadata": {},
   "source": [
    "Now train on LGBM"
   ]
  },
  {
   "cell_type": "code",
   "execution_count": 285,
   "metadata": {
    "collapsed": true
   },
   "outputs": [
    {
     "name": "stdout",
     "output_type": "stream",
     "text": [
      "Accuracy: 0.7083139804923363 \n",
      "--------------------\n",
      "classification report:\n",
      "\n",
      "              precision    recall  f1-score   support\n",
      "\n",
      "           0       0.05      0.43      0.09         7\n",
      "           1       0.65      0.29      0.40       345\n",
      "           2       0.00      0.00      0.00         1\n",
      "           3       0.00      0.00      0.00         0\n",
      "           4       0.17      1.00      0.29         3\n",
      "           5       0.80      0.94      0.86        17\n",
      "           6       0.94      0.88      0.91        76\n",
      "           7       0.50      0.63      0.56        38\n",
      "           8       0.29      0.67      0.40        18\n",
      "           9       0.04      0.25      0.07         4\n",
      "          10       0.46      0.42      0.44        97\n",
      "          11       0.00      0.00      0.00         2\n",
      "          12       0.90      0.65      0.76       385\n",
      "          13       0.00      0.00      0.00         0\n",
      "          14       0.00      0.00      0.00         3\n",
      "          15       0.00      0.00      0.00         6\n",
      "          16       0.69      0.59      0.63      3191\n",
      "          17       0.88      0.74      0.80      1386\n",
      "          18       0.00      0.00      0.00         1\n",
      "          19       0.79      0.82      0.80        40\n",
      "          20       0.00      0.00      0.00         2\n",
      "          21       0.00      0.00      0.00         0\n",
      "          22       0.00      0.00      0.00         2\n",
      "          23       0.44      0.43      0.44        28\n",
      "          24       0.64      0.35      0.45       293\n",
      "          25       0.79      0.62      0.69       598\n",
      "          26       1.00      1.00      1.00        20\n",
      "          27       0.99      0.95      0.97       156\n",
      "          28       1.00      1.00      1.00         9\n",
      "          29       1.00      1.00      1.00        38\n",
      "          30       0.41      0.88      0.56         8\n",
      "          31       0.00      0.00      0.00         4\n",
      "          32       0.00      0.00      0.00         4\n",
      "          33       0.65      0.45      0.54        33\n",
      "          34       0.03      0.33      0.06         3\n",
      "          35       0.95      0.93      0.94       397\n",
      "          36       0.00      0.00      0.00         5\n",
      "          37       0.00      0.00      0.00         0\n",
      "          38       0.47      0.62      0.54        58\n",
      "          39       0.04      0.50      0.07         4\n",
      "          40       0.02      0.09      0.03        11\n",
      "          41       0.13      0.73      0.23        15\n",
      "          42       0.86      0.94      0.90        33\n",
      "          43       0.35      0.44      0.39        41\n",
      "          44       0.08      0.30      0.13        10\n",
      "          45       0.19      0.58      0.29        19\n",
      "          46       0.41      0.62      0.50        45\n",
      "          47       0.11      0.44      0.17         9\n",
      "          48       0.78      0.68      0.73        91\n",
      "          49       0.01      0.14      0.02         7\n",
      "          50       0.36      0.32      0.34        25\n",
      "          51       0.00      0.00      0.00         1\n",
      "          52       0.00      0.00      0.00         1\n",
      "          53       0.02      0.12      0.04         8\n",
      "          54       0.00      0.00      0.00         0\n",
      "          55       0.23      0.50      0.31        16\n",
      "          56       1.00      1.00      1.00        21\n",
      "          57       0.98      0.80      0.88       147\n",
      "          58       0.36      1.00      0.53         4\n",
      "          59       0.87      0.90      0.89      2317\n",
      "          60       0.00      0.00      0.00         3\n",
      "          61       0.74      0.64      0.68        22\n",
      "          62       0.35      0.60      0.44        35\n",
      "          63       0.04      0.33      0.08         9\n",
      "          64       0.06      0.25      0.10        12\n",
      "          65       0.02      0.12      0.04         8\n",
      "          66       0.15      0.67      0.25        12\n",
      "          67       0.24      0.13      0.17        89\n",
      "          68       0.99      0.88      0.93       213\n",
      "          69       0.44      0.49      0.46        45\n",
      "          70       0.11      0.38      0.18        21\n",
      "          71       0.98      0.88      0.93        51\n",
      "          72       0.67      0.40      0.50       314\n",
      "          73       0.94      0.89      0.91        53\n",
      "          74       0.60      0.80      0.68        80\n",
      "          75       0.00      0.00      0.00         5\n",
      "          76       0.66      0.33      0.44       348\n",
      "          77       0.39      0.62      0.48        37\n",
      "          78       0.10      0.19      0.13        27\n",
      "          79       0.04      0.50      0.08         4\n",
      "          80       0.60      0.62      0.61        47\n",
      "          81       0.89      0.88      0.89       281\n",
      "          82       0.06      0.50      0.11         4\n",
      "          83       0.00      0.00      0.00         1\n",
      "          84       0.00      0.00      0.00         0\n",
      "          85       1.00      0.95      0.97       873\n",
      "          86       0.73      0.54      0.62       171\n",
      "          87       0.48      0.69      0.56        16\n",
      "          88       0.51      0.96      0.67        23\n",
      "          89       0.21      0.48      0.29        23\n",
      "          90       0.00      0.00      0.00         4\n",
      "          91       0.26      0.43      0.32        21\n",
      "          92       0.52      0.37      0.43        67\n",
      "          93       0.43      0.24      0.31       109\n",
      "          94       0.73      0.70      0.71       113\n",
      "          95       0.09      0.19      0.12        16\n",
      "          96       0.82      0.76      0.79      2256\n",
      "          97       0.90      0.90      0.90        10\n",
      "          98       1.00      0.99      0.99        93\n",
      "          99       0.00      0.00      0.00         1\n",
      "         100       0.56      0.46      0.51        87\n",
      "         101       0.00      0.00      0.00         0\n",
      "         102       0.00      0.00      0.00         2\n",
      "         103       0.00      0.00      0.00         6\n",
      "         104       0.80      0.83      0.81       667\n",
      "         105       1.00      0.93      0.96       591\n",
      "         106       0.00      0.00      0.00         1\n",
      "         107       0.71      0.67      0.69       108\n",
      "         108       0.68      0.50      0.57       142\n",
      "\n",
      "    accuracy                           0.71     17224\n",
      "   macro avg       0.39      0.46      0.39     17224\n",
      "weighted avg       0.78      0.71      0.74     17224\n",
      "\n",
      "--------------------\n",
      "Wall time: 7min 55s\n"
     ]
    }
   ],
   "source": [
    "%%time\n",
    "clf2 = LGBMClassifier(n_jobs =-1, learning_rate=0.05, random_state=26, n_estimators=10, num_leaves=150)\n",
    "fit_evaluate(clf2,parameters)"
   ]
  },
  {
   "cell_type": "code",
   "execution_count": 286,
   "metadata": {
    "collapsed": true
   },
   "outputs": [
    {
     "name": "stdout",
     "output_type": "stream",
     "text": [
      "Accuracy: 0.6123432419879238 \n",
      "--------------------\n",
      "classification report:\n",
      "\n",
      "              precision    recall  f1-score   support\n",
      "\n",
      "           0       0.00      0.00      0.00         7\n",
      "           1       0.61      0.28      0.38       345\n",
      "           2       0.00      0.00      0.00         1\n",
      "           3       0.00      0.00      0.00         0\n",
      "           4       0.14      1.00      0.25         3\n",
      "           5       0.88      0.41      0.56        17\n",
      "           6       0.81      0.88      0.84        76\n",
      "           7       0.68      0.68      0.68        38\n",
      "           8       0.21      0.78      0.33        18\n",
      "           9       0.00      0.00      0.00         4\n",
      "          10       0.53      0.38      0.44        97\n",
      "          11       0.00      0.00      0.00         2\n",
      "          12       0.71      0.50      0.59       385\n",
      "          13       0.00      0.00      0.00         0\n",
      "          14       0.00      0.00      0.00         3\n",
      "          15       0.00      0.00      0.00         6\n",
      "          16       0.70      0.45      0.55      3191\n",
      "          17       0.88      0.62      0.73      1386\n",
      "          18       0.00      0.00      0.00         1\n",
      "          19       0.69      0.78      0.73        40\n",
      "          20       0.02      0.50      0.04         2\n",
      "          21       0.00      0.00      0.00         0\n",
      "          22       0.00      0.00      0.00         2\n",
      "          23       0.16      0.36      0.22        28\n",
      "          24       0.57      0.30      0.40       293\n",
      "          25       0.72      0.58      0.64       598\n",
      "          26       0.42      0.85      0.57        20\n",
      "          27       0.94      0.87      0.91       156\n",
      "          28       0.14      0.33      0.19         9\n",
      "          29       0.90      1.00      0.95        38\n",
      "          30       0.02      0.12      0.04         8\n",
      "          31       0.00      0.00      0.00         4\n",
      "          32       0.00      0.00      0.00         4\n",
      "          33       0.14      0.21      0.17        33\n",
      "          34       0.02      0.33      0.04         3\n",
      "          35       0.96      0.92      0.94       397\n",
      "          36       0.00      0.00      0.00         5\n",
      "          37       0.00      0.00      0.00         0\n",
      "          38       0.49      0.45      0.47        58\n",
      "          39       0.00      0.00      0.00         4\n",
      "          40       0.00      0.00      0.00        11\n",
      "          41       0.35      0.87      0.50        15\n",
      "          42       0.82      0.94      0.87        33\n",
      "          43       0.15      0.29      0.20        41\n",
      "          44       0.07      0.30      0.12        10\n",
      "          45       0.09      0.21      0.13        19\n",
      "          46       0.25      0.47      0.33        45\n",
      "          47       0.00      0.00      0.00         9\n",
      "          48       0.51      0.66      0.57        91\n",
      "          49       0.01      0.29      0.03         7\n",
      "          50       0.29      0.24      0.26        25\n",
      "          51       0.00      0.00      0.00         1\n",
      "          52       0.00      0.00      0.00         1\n",
      "          53       0.02      0.12      0.03         8\n",
      "          54       0.00      0.00      0.00         0\n",
      "          55       0.03      0.06      0.04        16\n",
      "          56       1.00      1.00      1.00        21\n",
      "          57       0.95      0.77      0.85       147\n",
      "          58       0.40      1.00      0.57         4\n",
      "          59       0.88      0.75      0.81      2317\n",
      "          60       0.04      0.33      0.07         3\n",
      "          61       0.24      0.50      0.33        22\n",
      "          62       0.40      0.60      0.48        35\n",
      "          63       0.10      0.33      0.16         9\n",
      "          64       0.02      0.17      0.04        12\n",
      "          65       0.00      0.00      0.00         8\n",
      "          66       0.15      0.67      0.25        12\n",
      "          67       0.17      0.19      0.18        89\n",
      "          68       0.97      0.85      0.91       213\n",
      "          69       0.18      0.36      0.24        45\n",
      "          70       0.03      0.24      0.06        21\n",
      "          71       0.67      0.90      0.77        51\n",
      "          72       0.38      0.33      0.35       314\n",
      "          73       0.94      0.94      0.94        53\n",
      "          74       0.46      0.71      0.56        80\n",
      "          75       0.10      1.00      0.19         5\n",
      "          76       0.59      0.32      0.42       348\n",
      "          77       0.24      0.32      0.28        37\n",
      "          78       0.02      0.04      0.03        27\n",
      "          79       0.01      0.25      0.03         4\n",
      "          80       0.49      0.53      0.51        47\n",
      "          81       0.88      0.76      0.81       281\n",
      "          82       0.00      0.00      0.00         4\n",
      "          83       0.00      0.00      0.00         1\n",
      "          84       0.00      0.00      0.00         0\n",
      "          85       0.99      0.96      0.98       873\n",
      "          86       0.36      0.40      0.38       171\n",
      "          87       0.31      0.69      0.43        16\n",
      "          88       0.12      0.09      0.10        23\n",
      "          89       0.17      0.35      0.23        23\n",
      "          90       0.00      0.00      0.00         4\n",
      "          91       0.07      0.24      0.11        21\n",
      "          92       0.31      0.37      0.34        67\n",
      "          93       0.17      0.18      0.17       109\n",
      "          94       0.63      0.64      0.63       113\n",
      "          95       0.02      0.06      0.03        16\n",
      "          96       0.83      0.70      0.76      2256\n",
      "          97       0.04      0.30      0.07        10\n",
      "          98       0.62      0.98      0.76        93\n",
      "          99       0.00      0.00      0.00         1\n",
      "         100       0.19      0.21      0.20        87\n",
      "         101       0.00      0.00      0.00         0\n",
      "         102       0.00      0.00      0.00         2\n",
      "         103       0.00      0.00      0.00         6\n",
      "         104       0.79      0.69      0.73       667\n",
      "         105       0.96      0.84      0.90       591\n",
      "         106       0.00      0.00      0.00         1\n",
      "         107       0.65      0.56      0.60       108\n",
      "         108       0.59      0.44      0.50       142\n",
      "\n",
      "    accuracy                           0.61     17224\n",
      "   macro avg       0.30      0.37      0.31     17224\n",
      "weighted avg       0.75      0.61      0.66     17224\n",
      "\n",
      "--------------------\n",
      "Wall time: 13min 35s\n"
     ]
    }
   ],
   "source": [
    "%%time\n",
    "clf3 = LGBMClassifier(n_jobs =-1, learning_rate=0.05, random_state=26, n_estimators=20, num_leaves=120)\n",
    "fit_evaluate(clf3,parameters)"
   ]
  },
  {
   "cell_type": "code",
   "execution_count": 288,
   "metadata": {
    "collapsed": true
   },
   "outputs": [
    {
     "name": "stdout",
     "output_type": "stream",
     "text": [
      "Accuracy: 0.7518578727357176 \n",
      "--------------------\n",
      "classification report:\n",
      "\n",
      "              precision    recall  f1-score   support\n",
      "\n",
      "           0       0.06      0.29      0.10         7\n",
      "           1       0.65      0.26      0.37       345\n",
      "           2       0.00      0.00      0.00         1\n",
      "           3       0.00      0.00      0.00         0\n",
      "           4       0.21      1.00      0.35         3\n",
      "           5       0.94      0.94      0.94        17\n",
      "           6       0.96      0.96      0.96        76\n",
      "           7       0.84      0.82      0.83        38\n",
      "           8       0.50      0.89      0.64        18\n",
      "           9       0.00      0.00      0.00         4\n",
      "          10       0.82      0.33      0.47        97\n",
      "          11       0.00      0.00      0.00         2\n",
      "          12       0.91      0.73      0.81       385\n",
      "          13       0.00      0.00      0.00         0\n",
      "          14       0.00      0.00      0.00         3\n",
      "          15       0.00      0.00      0.00         6\n",
      "          16       0.61      0.73      0.66      3191\n",
      "          17       0.88      0.79      0.83      1386\n",
      "          18       0.00      0.00      0.00         1\n",
      "          19       0.97      0.82      0.89        40\n",
      "          20       0.00      0.00      0.00         2\n",
      "          21       0.00      0.00      0.00         0\n",
      "          22       0.00      0.00      0.00         2\n",
      "          23       0.44      0.39      0.42        28\n",
      "          24       0.75      0.31      0.44       293\n",
      "          25       0.82      0.60      0.69       598\n",
      "          26       1.00      1.00      1.00        20\n",
      "          27       1.00      0.93      0.96       156\n",
      "          28       1.00      1.00      1.00         9\n",
      "          29       0.86      1.00      0.93        38\n",
      "          30       1.00      1.00      1.00         8\n",
      "          31       0.00      0.00      0.00         4\n",
      "          32       0.07      0.25      0.11         4\n",
      "          33       0.80      0.61      0.69        33\n",
      "          34       0.05      0.33      0.09         3\n",
      "          35       0.95      0.93      0.94       397\n",
      "          36       0.00      0.00      0.00         5\n",
      "          37       0.00      0.00      0.00         0\n",
      "          38       0.68      0.72      0.70        58\n",
      "          39       0.03      0.50      0.06         4\n",
      "          40       0.07      0.09      0.08        11\n",
      "          41       0.32      0.80      0.45        15\n",
      "          42       1.00      0.97      0.98        33\n",
      "          43       0.43      0.29      0.35        41\n",
      "          44       0.14      0.30      0.19        10\n",
      "          45       0.22      0.32      0.26        19\n",
      "          46       0.66      0.69      0.67        45\n",
      "          47       0.50      0.67      0.57         9\n",
      "          48       0.91      0.79      0.85        91\n",
      "          49       0.01      0.14      0.03         7\n",
      "          50       0.75      0.12      0.21        25\n",
      "          51       0.00      0.00      0.00         1\n",
      "          52       0.00      0.00      0.00         1\n",
      "          53       0.08      0.12      0.10         8\n",
      "          54       0.00      0.00      0.00         0\n",
      "          55       0.15      0.38      0.21        16\n",
      "          56       1.00      1.00      1.00        21\n",
      "          57       0.99      0.80      0.88       147\n",
      "          58       0.36      1.00      0.53         4\n",
      "          59       0.86      0.95      0.90      2317\n",
      "          60       0.00      0.00      0.00         3\n",
      "          61       0.67      0.55      0.60        22\n",
      "          62       0.78      0.60      0.68        35\n",
      "          63       0.12      0.33      0.18         9\n",
      "          64       0.09      0.33      0.14        12\n",
      "          65       0.00      0.00      0.00         8\n",
      "          66       0.29      0.42      0.34        12\n",
      "          67       0.51      0.26      0.34        89\n",
      "          68       1.00      0.93      0.96       213\n",
      "          69       0.62      0.44      0.52        45\n",
      "          70       0.18      0.29      0.22        21\n",
      "          71       1.00      0.88      0.94        51\n",
      "          72       0.83      0.39      0.53       314\n",
      "          73       0.94      0.96      0.95        53\n",
      "          74       0.60      0.78      0.68        80\n",
      "          75       0.00      0.00      0.00         5\n",
      "          76       0.74      0.29      0.42       348\n",
      "          77       0.56      0.59      0.58        37\n",
      "          78       0.08      0.04      0.05        27\n",
      "          79       0.10      0.50      0.17         4\n",
      "          80       0.64      0.60      0.62        47\n",
      "          81       0.92      0.89      0.91       281\n",
      "          82       0.09      0.25      0.13         4\n",
      "          83       0.02      1.00      0.05         1\n",
      "          84       0.00      0.00      0.00         0\n",
      "          85       1.00      0.96      0.98       873\n",
      "          86       0.91      0.58      0.71       171\n",
      "          87       1.00      0.75      0.86        16\n",
      "          88       0.82      1.00      0.90        23\n",
      "          89       0.35      0.61      0.44        23\n",
      "          90       0.03      0.25      0.06         4\n",
      "          91       0.32      0.38      0.35        21\n",
      "          92       0.86      0.37      0.52        67\n",
      "          93       0.78      0.17      0.27       109\n",
      "          94       0.73      0.61      0.67       113\n",
      "          95       0.29      0.25      0.27        16\n",
      "          96       0.82      0.81      0.82      2256\n",
      "          97       1.00      0.90      0.95        10\n",
      "          98       1.00      0.99      0.99        93\n",
      "          99       0.00      0.00      0.00         1\n",
      "         100       0.80      0.43      0.56        87\n",
      "         101       0.00      0.00      0.00         0\n",
      "         102       0.00      0.00      0.00         2\n",
      "         103       0.07      0.33      0.11         6\n",
      "         104       0.87      0.78      0.82       667\n",
      "         105       0.99      0.97      0.98       591\n",
      "         106       0.00      0.00      0.00         1\n",
      "         107       0.82      0.58      0.68       108\n",
      "         108       0.86      0.48      0.62       142\n",
      "\n",
      "    accuracy                           0.75     17224\n",
      "   macro avg       0.47      0.47      0.44     17224\n",
      "weighted avg       0.80      0.75      0.76     17224\n",
      "\n",
      "--------------------\n",
      "Wall time: 10min 5s\n"
     ]
    }
   ],
   "source": [
    "%%time\n",
    "clf4 = LGBMClassifier(n_jobs =-1, learning_rate=0.03, random_state=26, n_estimators=10, num_leaves=200)\n",
    "fit_evaluate(clf4,parameters)\n",
    "#best params"
   ]
  },
  {
   "cell_type": "code",
   "execution_count": 291,
   "metadata": {
    "collapsed": true
   },
   "outputs": [
    {
     "name": "stdout",
     "output_type": "stream",
     "text": [
      "Accuracy: 0.7497097073850442 \n",
      "--------------------\n",
      "classification report:\n",
      "\n",
      "              precision    recall  f1-score   support\n",
      "\n",
      "           0       0.06      0.29      0.10         7\n",
      "           1       0.66      0.28      0.39       345\n",
      "           2       0.00      0.00      0.00         1\n",
      "           3       0.00      0.00      0.00         0\n",
      "           4       0.21      1.00      0.35         3\n",
      "           5       0.94      0.94      0.94        17\n",
      "           6       0.96      0.96      0.96        76\n",
      "           7       0.89      0.82      0.85        38\n",
      "           8       0.50      0.89      0.64        18\n",
      "           9       0.00      0.00      0.00         4\n",
      "          10       0.79      0.31      0.44        97\n",
      "          11       0.00      0.00      0.00         2\n",
      "          12       0.91      0.72      0.81       385\n",
      "          13       0.00      0.00      0.00         0\n",
      "          14       0.00      0.00      0.00         3\n",
      "          15       0.00      0.00      0.00         6\n",
      "          16       0.61      0.73      0.66      3191\n",
      "          17       0.88      0.79      0.83      1386\n",
      "          18       0.00      0.00      0.00         1\n",
      "          19       0.97      0.82      0.89        40\n",
      "          20       0.00      0.00      0.00         2\n",
      "          21       0.00      0.00      0.00         0\n",
      "          22       0.00      0.00      0.00         2\n",
      "          23       0.42      0.39      0.41        28\n",
      "          24       0.77      0.32      0.45       293\n",
      "          25       0.80      0.59      0.68       598\n",
      "          26       1.00      1.00      1.00        20\n",
      "          27       1.00      0.89      0.94       156\n",
      "          28       1.00      1.00      1.00         9\n",
      "          29       0.93      1.00      0.96        38\n",
      "          30       0.80      1.00      0.89         8\n",
      "          31       0.00      0.00      0.00         4\n",
      "          32       0.06      0.25      0.10         4\n",
      "          33       0.81      0.64      0.71        33\n",
      "          34       0.05      0.33      0.09         3\n",
      "          35       0.95      0.93      0.94       397\n",
      "          36       0.00      0.00      0.00         5\n",
      "          37       0.00      0.00      0.00         0\n",
      "          38       0.65      0.74      0.69        58\n",
      "          39       0.02      0.50      0.04         4\n",
      "          40       0.00      0.00      0.00        11\n",
      "          41       0.32      0.80      0.45        15\n",
      "          42       1.00      0.97      0.98        33\n",
      "          43       0.47      0.34      0.39        41\n",
      "          44       0.15      0.30      0.20        10\n",
      "          45       0.27      0.37      0.31        19\n",
      "          46       0.62      0.69      0.65        45\n",
      "          47       0.44      0.44      0.44         9\n",
      "          48       0.88      0.76      0.82        91\n",
      "          49       0.01      0.14      0.02         7\n",
      "          50       0.75      0.12      0.21        25\n",
      "          51       0.00      0.00      0.00         1\n",
      "          52       0.08      1.00      0.15         1\n",
      "          53       0.09      0.12      0.11         8\n",
      "          54       0.00      0.00      0.00         0\n",
      "          55       0.20      0.31      0.24        16\n",
      "          56       1.00      1.00      1.00        21\n",
      "          57       0.99      0.80      0.88       147\n",
      "          58       0.36      1.00      0.53         4\n",
      "          59       0.86      0.95      0.90      2317\n",
      "          60       0.00      0.00      0.00         3\n",
      "          61       0.67      0.55      0.60        22\n",
      "          62       0.55      0.60      0.58        35\n",
      "          63       0.10      0.33      0.15         9\n",
      "          64       0.09      0.33      0.14        12\n",
      "          65       0.00      0.00      0.00         8\n",
      "          66       0.28      0.42      0.33        12\n",
      "          67       0.49      0.24      0.32        89\n",
      "          68       1.00      0.92      0.96       213\n",
      "          69       0.62      0.47      0.53        45\n",
      "          70       0.18      0.29      0.22        21\n",
      "          71       1.00      0.88      0.94        51\n",
      "          72       0.82      0.40      0.54       314\n",
      "          73       0.93      0.98      0.95        53\n",
      "          74       0.60      0.78      0.68        80\n",
      "          75       0.15      0.80      0.26         5\n",
      "          76       0.75      0.29      0.42       348\n",
      "          77       0.55      0.59      0.57        37\n",
      "          78       0.07      0.04      0.05        27\n",
      "          79       0.10      0.50      0.16         4\n",
      "          80       0.64      0.62      0.63        47\n",
      "          81       0.92      0.88      0.90       281\n",
      "          82       0.20      0.50      0.29         4\n",
      "          83       0.00      0.00      0.00         1\n",
      "          84       0.00      0.00      0.00         0\n",
      "          85       1.00      0.96      0.98       873\n",
      "          86       0.92      0.62      0.74       171\n",
      "          87       1.00      0.75      0.86        16\n",
      "          88       0.65      0.96      0.77        23\n",
      "          89       0.33      0.57      0.41        23\n",
      "          90       0.04      0.25      0.07         4\n",
      "          91       0.28      0.38      0.32        21\n",
      "          92       0.86      0.37      0.52        67\n",
      "          93       0.71      0.16      0.26       109\n",
      "          94       0.74      0.63      0.68       113\n",
      "          95       0.27      0.25      0.26        16\n",
      "          96       0.82      0.82      0.82      2256\n",
      "          97       1.00      0.90      0.95        10\n",
      "          98       1.00      0.99      0.99        93\n",
      "          99       0.00      0.00      0.00         1\n",
      "         100       0.84      0.43      0.56        87\n",
      "         101       0.00      0.00      0.00         0\n",
      "         102       0.00      0.00      0.00         2\n",
      "         103       0.07      0.33      0.11         6\n",
      "         104       0.86      0.76      0.81       667\n",
      "         105       0.99      0.96      0.98       591\n",
      "         106       0.00      0.00      0.00         1\n",
      "         107       0.82      0.59      0.69       108\n",
      "         108       0.84      0.49      0.62       142\n",
      "\n",
      "    accuracy                           0.75     17224\n",
      "   macro avg       0.47      0.48      0.44     17224\n",
      "weighted avg       0.80      0.75      0.76     17224\n",
      "\n",
      "--------------------\n",
      "Wall time: 13min 40s\n"
     ]
    }
   ],
   "source": [
    "%%time\n",
    "clf5 = LGBMClassifier(n_jobs =-1, learning_rate=0.03, random_state=26, n_estimators=10, num_leaves=300)\n",
    "fit_evaluate(clf5,parameters)\n",
    "# 2nd best params"
   ]
  },
  {
   "cell_type": "code",
   "execution_count": 307,
   "metadata": {
    "collapsed": true
   },
   "outputs": [
    {
     "name": "stdout",
     "output_type": "stream",
     "text": [
      "Accuracy: 0.7481421272642824 \n",
      "--------------------\n",
      "classification report:\n",
      "\n",
      "              precision    recall  f1-score   support\n",
      "\n",
      "           0       0.07      0.29      0.11         7\n",
      "           1       0.68      0.27      0.38       345\n",
      "           2       0.00      0.00      0.00         1\n",
      "           3       0.00      0.00      0.00         0\n",
      "           4       0.21      1.00      0.35         3\n",
      "           5       0.94      0.94      0.94        17\n",
      "           6       0.96      0.96      0.96        76\n",
      "           7       0.82      0.82      0.82        38\n",
      "           8       0.50      0.89      0.64        18\n",
      "           9       0.00      0.00      0.00         4\n",
      "          10       0.82      0.32      0.46        97\n",
      "          11       0.00      0.00      0.00         2\n",
      "          12       0.91      0.71      0.80       385\n",
      "          13       0.00      0.00      0.00         0\n",
      "          14       0.00      0.00      0.00         3\n",
      "          15       0.00      0.00      0.00         6\n",
      "          16       0.60      0.73      0.66      3191\n",
      "          17       0.88      0.79      0.83      1386\n",
      "          18       0.00      0.00      0.00         1\n",
      "          19       0.97      0.82      0.89        40\n",
      "          20       0.00      0.00      0.00         2\n",
      "          21       0.00      0.00      0.00         0\n",
      "          22       0.00      0.00      0.00         2\n",
      "          23       0.38      0.39      0.39        28\n",
      "          24       0.78      0.30      0.43       293\n",
      "          25       0.82      0.59      0.69       598\n",
      "          26       1.00      1.00      1.00        20\n",
      "          27       1.00      0.93      0.96       156\n",
      "          28       1.00      1.00      1.00         9\n",
      "          29       0.93      1.00      0.96        38\n",
      "          30       1.00      1.00      1.00         8\n",
      "          31       0.00      0.00      0.00         4\n",
      "          32       0.07      0.25      0.11         4\n",
      "          33       0.81      0.64      0.71        33\n",
      "          34       0.08      0.33      0.12         3\n",
      "          35       0.95      0.93      0.94       397\n",
      "          36       0.00      0.00      0.00         5\n",
      "          37       0.00      0.00      0.00         0\n",
      "          38       0.67      0.72      0.69        58\n",
      "          39       0.02      0.50      0.04         4\n",
      "          40       0.00      0.00      0.00        11\n",
      "          41       0.32      0.80      0.45        15\n",
      "          42       1.00      0.97      0.98        33\n",
      "          43       0.47      0.34      0.39        41\n",
      "          44       0.12      0.30      0.18        10\n",
      "          45       0.23      0.32      0.27        19\n",
      "          46       0.65      0.69      0.67        45\n",
      "          47       0.50      0.67      0.57         9\n",
      "          48       0.92      0.77      0.84        91\n",
      "          49       0.02      0.14      0.03         7\n",
      "          50       0.80      0.16      0.27        25\n",
      "          51       0.00      0.00      0.00         1\n",
      "          52       0.00      0.00      0.00         1\n",
      "          53       0.09      0.12      0.11         8\n",
      "          54       0.00      0.00      0.00         0\n",
      "          55       0.24      0.38      0.29        16\n",
      "          56       1.00      1.00      1.00        21\n",
      "          57       0.99      0.80      0.89       147\n",
      "          58       0.36      1.00      0.53         4\n",
      "          59       0.86      0.95      0.90      2317\n",
      "          60       0.00      0.00      0.00         3\n",
      "          61       0.67      0.55      0.60        22\n",
      "          62       0.54      0.57      0.56        35\n",
      "          63       0.11      0.33      0.16         9\n",
      "          64       0.10      0.33      0.15        12\n",
      "          65       0.00      0.00      0.00         8\n",
      "          66       0.29      0.42      0.34        12\n",
      "          67       0.50      0.25      0.33        89\n",
      "          68       1.00      0.92      0.96       213\n",
      "          69       0.66      0.47      0.55        45\n",
      "          70       0.17      0.29      0.21        21\n",
      "          71       0.88      0.88      0.88        51\n",
      "          72       0.84      0.39      0.53       314\n",
      "          73       0.96      0.96      0.96        53\n",
      "          74       0.60      0.78      0.68        80\n",
      "          75       0.00      0.00      0.00         5\n",
      "          76       0.77      0.29      0.42       348\n",
      "          77       0.55      0.59      0.57        37\n",
      "          78       0.07      0.04      0.05        27\n",
      "          79       0.10      0.50      0.17         4\n",
      "          80       0.64      0.62      0.63        47\n",
      "          81       0.92      0.89      0.90       281\n",
      "          82       0.09      0.25      0.13         4\n",
      "          83       0.00      0.00      0.00         1\n",
      "          84       0.00      0.00      0.00         0\n",
      "          85       1.00      0.96      0.98       873\n",
      "          86       0.91      0.63      0.74       171\n",
      "          87       1.00      0.75      0.86        16\n",
      "          88       0.68      0.91      0.78        23\n",
      "          89       0.34      0.61      0.44        23\n",
      "          90       0.03      0.25      0.06         4\n",
      "          91       0.32      0.38      0.35        21\n",
      "          92       0.86      0.36      0.51        67\n",
      "          93       0.75      0.17      0.27       109\n",
      "          94       0.74      0.60      0.66       113\n",
      "          95       0.29      0.25      0.27        16\n",
      "          96       0.82      0.81      0.81      2256\n",
      "          97       1.00      0.90      0.95        10\n",
      "          98       1.00      0.99      0.99        93\n",
      "          99       0.00      0.00      0.00         1\n",
      "         100       0.81      0.45      0.58        87\n",
      "         101       0.00      0.00      0.00         0\n",
      "         102       0.00      0.00      0.00         2\n",
      "         103       0.07      0.33      0.11         6\n",
      "         104       0.87      0.74      0.80       667\n",
      "         105       0.99      0.96      0.98       591\n",
      "         106       0.00      0.00      0.00         1\n",
      "         107       0.82      0.59      0.69       108\n",
      "         108       0.85      0.47      0.61       142\n",
      "\n",
      "    accuracy                           0.75     17224\n",
      "   macro avg       0.47      0.46      0.44     17224\n",
      "weighted avg       0.80      0.75      0.76     17224\n",
      "\n",
      "--------------------\n",
      "Wall time: 10min 36s\n"
     ]
    }
   ],
   "source": [
    "%%time\n",
    "clf_best = LGBMClassifier(n_jobs =-1, learning_rate=0.03, random_state=26, n_estimators=10, num_leaves=200)\n",
    "fit_evaluate(clf_best,parameters)\n",
    "#best params"
   ]
  },
  {
   "cell_type": "code",
   "execution_count": 334,
   "metadata": {},
   "outputs": [
    {
     "data": {
      "text/plain": [
       "['tickets_category_LGBM.joblib']"
      ]
     },
     "execution_count": 334,
     "metadata": {},
     "output_type": "execute_result"
    }
   ],
   "source": [
    "# saving model for further use\n",
    "\n",
    "from joblib import dump\n",
    "\n",
    "dump(clf_best, 'tickets_category_LGBM.joblib') "
   ]
  },
  {
   "cell_type": "markdown",
   "metadata": {},
   "source": [
    "# -Classify tickets by type:"
   ]
  },
  {
   "cell_type": "code",
   "execution_count": 337,
   "metadata": {},
   "outputs": [],
   "source": [
    "Type_df = df[['Incident-Subject','Type']].copy()"
   ]
  },
  {
   "cell_type": "code",
   "execution_count": 341,
   "metadata": {},
   "outputs": [
    {
     "data": {
      "text/plain": [
       "Incidents      48952\n",
       "Demandes       39900\n",
       "Changements      206\n",
       "Name: Type, dtype: int64"
      ]
     },
     "execution_count": 341,
     "metadata": {},
     "output_type": "execute_result"
    }
   ],
   "source": [
    "Type_df.Type.value_counts()"
   ]
  },
  {
   "cell_type": "code",
   "execution_count": 350,
   "metadata": {
    "scrolled": true
   },
   "outputs": [
    {
     "data": {
      "text/plain": [
       "'serveur cognacx pouvez supprimer disk numéro merci davance jm mahe'"
      ]
     },
     "execution_count": 350,
     "metadata": {},
     "output_type": "execute_result"
    }
   ],
   "source": [
    "Type_df[Type_df['Type'] == 'Changements']['Incident-Subject'].iloc[2]"
   ]
  },
  {
   "cell_type": "code",
   "execution_count": 352,
   "metadata": {},
   "outputs": [],
   "source": [
    "X_type = df['Incident-Subject']\n",
    "y_type = Type_df['Type']"
   ]
  },
  {
   "cell_type": "code",
   "execution_count": 353,
   "metadata": {},
   "outputs": [],
   "source": [
    "pipe = Pipeline([('count', CountVectorizer(ngram_range=(1, 3))),\n",
    "                      ('tfid', TfidfTransformer())]).fit(X_type)"
   ]
  },
  {
   "cell_type": "code",
   "execution_count": 354,
   "metadata": {},
   "outputs": [
    {
     "data": {
      "text/plain": [
       "<89058x1546392 sparse matrix of type '<class 'numpy.float64'>'\n",
       "\twith 7713574 stored elements in Compressed Sparse Row format>"
      ]
     },
     "execution_count": 354,
     "metadata": {},
     "output_type": "execute_result"
    }
   ],
   "source": [
    "my_X = pipe.transform(X_type)\n",
    "my_X"
   ]
  },
  {
   "cell_type": "code",
   "execution_count": 373,
   "metadata": {},
   "outputs": [
    {
     "data": {
      "text/plain": [
       "array([2, 2, 2, ..., 2, 2, 2])"
      ]
     },
     "execution_count": 373,
     "metadata": {},
     "output_type": "execute_result"
    }
   ],
   "source": [
    "my_y = LabelEncoder().fit_transform(y_type)\n",
    "my_y"
   ]
  },
  {
   "cell_type": "code",
   "execution_count": 437,
   "metadata": {
    "ExecuteTime": {
     "end_time": "2020-12-23T21:40:10.345840Z",
     "start_time": "2020-12-23T21:40:10.296096Z"
    }
   },
   "outputs": [],
   "source": [
    "X_train, X_test, y_train, y_test = train_test_split(my_X, my_y, test_size = 0.3, random_state = 26, stratify=my_y )"
   ]
  },
  {
   "cell_type": "code",
   "execution_count": 438,
   "metadata": {},
   "outputs": [],
   "source": [
    "#over sampling training data\n",
    "smote = SMOTE(n_jobs=-1, random_state=26)"
   ]
  },
  {
   "cell_type": "code",
   "execution_count": 439,
   "metadata": {},
   "outputs": [],
   "source": [
    "X_train_res, y_train_res = smote.fit_resample(X_train, y_train)"
   ]
  },
  {
   "cell_type": "code",
   "execution_count": 440,
   "metadata": {
    "scrolled": true
   },
   "outputs": [
    {
     "data": {
      "text/plain": [
       "(array([0, 1, 2]), array([  144, 27930, 34266], dtype=int64))"
      ]
     },
     "execution_count": 440,
     "metadata": {},
     "output_type": "execute_result"
    }
   ],
   "source": [
    "np.unique(y_train,return_counts=True)"
   ]
  },
  {
   "cell_type": "code",
   "execution_count": 444,
   "metadata": {
    "collapsed": true
   },
   "outputs": [
    {
     "name": "stdout",
     "output_type": "stream",
     "text": [
      "Accuracy: 0.9189684856650947 \n",
      "--------------------\n",
      "classification report:\n",
      "\n",
      "              precision    recall  f1-score   support\n",
      "\n",
      "           0       0.00      0.00      0.00        62\n",
      "           1       0.87      0.96      0.91     11970\n",
      "           2       0.97      0.89      0.93     14686\n",
      "\n",
      "    accuracy                           0.92     26718\n",
      "   macro avg       0.61      0.62      0.61     26718\n",
      "weighted avg       0.92      0.92      0.92     26718\n",
      "\n",
      "--------------------\n",
      "Wall time: 341 ms\n"
     ]
    },
    {
     "name": "stderr",
     "output_type": "stream",
     "text": [
      "C:\\ProgramData\\Anaconda3\\lib\\site-packages\\sklearn\\metrics\\_classification.py:1221: UndefinedMetricWarning: Precision and F-score are ill-defined and being set to 0.0 in labels with no predicted samples. Use `zero_division` parameter to control this behavior.\n",
      "  _warn_prf(average, modifier, msg_start, len(result))\n"
     ]
    }
   ],
   "source": [
    "%%time\n",
    "#without resampling\n",
    "type_clf1 = MultinomialNB()\n",
    "parameters = None\n",
    "fit_evaluate(type_clf1,parameters,X_train,y_train)"
   ]
  },
  {
   "cell_type": "code",
   "execution_count": 445,
   "metadata": {
    "collapsed": true
   },
   "outputs": [
    {
     "name": "stdout",
     "output_type": "stream",
     "text": [
      "Accuracy: 0.9062804102103451 \n",
      "--------------------\n",
      "classification report:\n",
      "\n",
      "              precision    recall  f1-score   support\n",
      "\n",
      "           0       0.11      0.74      0.19        62\n",
      "           1       0.86      0.95      0.90     11970\n",
      "           2       0.98      0.87      0.92     14686\n",
      "\n",
      "    accuracy                           0.91     26718\n",
      "   macro avg       0.65      0.85      0.67     26718\n",
      "weighted avg       0.92      0.91      0.91     26718\n",
      "\n",
      "--------------------\n",
      "Wall time: 369 ms\n"
     ]
    }
   ],
   "source": [
    "%%time\n",
    "#with resampling\n",
    "type_clf2 = MultinomialNB()\n",
    "parameters = None\n",
    "fit_evaluate(type_clf2,parameters,X_train_res,y_train_res)\n",
    "#better"
   ]
  },
  {
   "cell_type": "markdown",
   "metadata": {},
   "source": [
    "with resampling the naive bayes model gets better score in precision and recall"
   ]
  },
  {
   "cell_type": "markdown",
   "metadata": {},
   "source": [
    "**Now lets try Light gradient boosting**"
   ]
  },
  {
   "cell_type": "code",
   "execution_count": 454,
   "metadata": {
    "collapsed": true
   },
   "outputs": [
    {
     "name": "stdout",
     "output_type": "stream",
     "text": [
      "Accuracy: 0.9348753649225241 \n",
      "--------------------\n",
      "classification report:\n",
      "\n",
      "              precision    recall  f1-score   support\n",
      "\n",
      "           0       0.93      0.45      0.61        62\n",
      "           1       0.91      0.95      0.93     11970\n",
      "           2       0.96      0.93      0.94     14686\n",
      "\n",
      "    accuracy                           0.93     26718\n",
      "   macro avg       0.93      0.78      0.83     26718\n",
      "weighted avg       0.94      0.93      0.93     26718\n",
      "\n",
      "--------------------\n",
      "Wall time: 4min 14s\n"
     ]
    }
   ],
   "source": [
    "%%time\n",
    "#without resampling, as LGBM is based on a resampling bootstrapping technique already\n",
    "type_clf3 = LGBMClassifier(n_jobs =-1, learning_rate=0.03, random_state=26, n_estimators=100, num_leaves=200)\n",
    "parameters = None\n",
    "fit_evaluate(type_clf3,parameters,X_train,y_train)"
   ]
  },
  {
   "cell_type": "code",
   "execution_count": 455,
   "metadata": {
    "collapsed": true
   },
   "outputs": [
    {
     "name": "stdout",
     "output_type": "stream",
     "text": [
      "Accuracy: 0.9364847668238641 \n",
      "--------------------\n",
      "classification report:\n",
      "\n",
      "              precision    recall  f1-score   support\n",
      "\n",
      "           0       0.90      0.45      0.60        62\n",
      "           1       0.91      0.95      0.93     11970\n",
      "           2       0.96      0.93      0.94     14686\n",
      "\n",
      "    accuracy                           0.94     26718\n",
      "   macro avg       0.92      0.78      0.83     26718\n",
      "weighted avg       0.94      0.94      0.94     26718\n",
      "\n",
      "--------------------\n",
      "Wall time: 5min 14s\n"
     ]
    }
   ],
   "source": [
    "%%time\n",
    "#without resampling, as LGBM is based on a resampling bootstrapping technique already\n",
    "type_clf3 = LGBMClassifier(n_jobs =-1, learning_rate=0.03, random_state=26, n_estimators=200, num_leaves=100)\n",
    "parameters = None\n",
    "fit_evaluate(type_clf3,parameters,X_train,y_train)"
   ]
  },
  {
   "cell_type": "code",
   "execution_count": 456,
   "metadata": {
    "scrolled": true
   },
   "outputs": [
    {
     "name": "stdout",
     "output_type": "stream",
     "text": [
      "Accuracy: 0.9375327494572947 \n",
      "--------------------\n",
      "classification report:\n",
      "\n",
      "              precision    recall  f1-score   support\n",
      "\n",
      "           0       0.91      0.47      0.62        62\n",
      "           1       0.91      0.95      0.93     11970\n",
      "           2       0.96      0.93      0.94     14686\n",
      "\n",
      "    accuracy                           0.94     26718\n",
      "   macro avg       0.93      0.78      0.83     26718\n",
      "weighted avg       0.94      0.94      0.94     26718\n",
      "\n",
      "--------------------\n",
      "Wall time: 5min 45s\n"
     ]
    }
   ],
   "source": [
    "%%time\n",
    "#without resampling, as LGBM is based on a resampling bootstrapping technique already\n",
    "type_clf3 = LGBMClassifier(n_jobs =-1, learning_rate=0.03, random_state=26, n_estimators=160, num_leaves=160)\n",
    "parameters = None\n",
    "fit_evaluate(type_clf3,parameters,X_train,y_train)"
   ]
  },
  {
   "cell_type": "markdown",
   "metadata": {},
   "source": [
    "**Now train best params on all of the dataset**"
   ]
  },
  {
   "cell_type": "code",
   "execution_count": null,
   "metadata": {},
   "outputs": [],
   "source": [
    "#without resampling, as LGBM is based on a resampling bootstrapping technique already\n",
    "type_best_clf = LGBMClassifier(n_jobs =-1, learning_rate=0.03, random_state=26, n_estimators=160, num_leaves=160)\n",
    "type_best_clf.fit(my_X,my_y)"
   ]
  },
  {
   "cell_type": "code",
   "execution_count": null,
   "metadata": {},
   "outputs": [],
   "source": [
    "# saving model for further use\n",
    "dump(clf_best, 'tickets_type_LGBM.joblib') "
   ]
  }
 ],
 "metadata": {
  "kernelspec": {
   "display_name": "Python 3",
   "language": "python",
   "name": "python3"
  },
  "language_info": {
   "codemirror_mode": {
    "name": "ipython",
    "version": 3
   },
   "file_extension": ".py",
   "mimetype": "text/x-python",
   "name": "python",
   "nbconvert_exporter": "python",
   "pygments_lexer": "ipython3",
   "version": "3.7.9"
  },
  "toc": {
   "base_numbering": 1,
   "nav_menu": {},
   "number_sections": true,
   "sideBar": true,
   "skip_h1_title": false,
   "title_cell": "Table of Contents",
   "title_sidebar": "Contents",
   "toc_cell": false,
   "toc_position": {},
   "toc_section_display": true,
   "toc_window_display": false
  },
  "varInspector": {
   "cols": {
    "lenName": 16,
    "lenType": 16,
    "lenVar": 40
   },
   "kernels_config": {
    "python": {
     "delete_cmd_postfix": "",
     "delete_cmd_prefix": "del ",
     "library": "var_list.py",
     "varRefreshCmd": "print(var_dic_list())"
    },
    "r": {
     "delete_cmd_postfix": ") ",
     "delete_cmd_prefix": "rm(",
     "library": "var_list.r",
     "varRefreshCmd": "cat(var_dic_list()) "
    }
   },
   "types_to_exclude": [
    "module",
    "function",
    "builtin_function_or_method",
    "instance",
    "_Feature"
   ],
   "window_display": false
  }
 },
 "nbformat": 4,
 "nbformat_minor": 4
}
